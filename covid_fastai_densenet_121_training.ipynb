{
 "cells": [
  {
   "cell_type": "markdown",
   "metadata": {},
   "source": [
    "# Imports"
   ]
  },
  {
   "cell_type": "code",
   "execution_count": 1,
   "metadata": {
    "init_cell": true
   },
   "outputs": [],
   "source": [
    "from fastai import *\n",
    "from fastai.vision import *\n",
    "from fastai.vision.learner import model_meta\n",
    "from fastai.callbacks import SaveModelCallback\n",
    "from torchvision.models import *  # import *=all the models from torchvision  \n",
    "from pathlib import Path\n",
    "import pandas as pd\n",
    "import numpy as np\n",
    "import cv2\n",
    "# import matplotlib.pyplot as plt\n",
    "# import matplotlib.patches as patches\n",
    "import random\n",
    "from sklearn.utils import shuffle\n",
    "from tqdm import tqdm_notebook\n",
    "import shutil\n",
    "import joblib\n",
    "# import pretrainedmodels\n",
    "\n",
    "from tqdm import tqdm_notebook\n",
    "\n",
    "loss_dict = {\n",
    "        \"cross_entropy\": CrossEntropyFlat(),\n",
    "        # \"focal_loss\": FocalLoss(),\n",
    "        # \"anchor_loss\": AnchorLoss(),\n",
    "        # \"lovasz_softmax\": lovasz_softmax_flat,\n",
    "    }\n",
    "\n",
    "%reload_ext autoreload\n",
    "%autoreload 2\n",
    "%matplotlib inline"
   ]
  },
  {
   "cell_type": "markdown",
   "metadata": {},
   "source": [
    "# Config"
   ]
  },
  {
   "cell_type": "code",
   "execution_count": 2,
   "metadata": {
    "init_cell": true
   },
   "outputs": [],
   "source": [
    "CWD = Path.cwd()\n",
    "\n",
    "root_path = CWD / 'covid_dataset'\n",
    "train_path = root_path / \"train\"\n",
    "test_path = root_path / \"test\"\n",
    "model_save_dir = 'models'\n",
    "WAND_LOGGING = True\n",
    "if WAND_LOGGING:\n",
    "    import wandb\n",
    "    from wandb.fastai import WandbCallback\n",
    "#     \"hacker_earth_gala_individual\""
   ]
  },
  {
   "cell_type": "code",
   "execution_count": 3,
   "metadata": {
    "init_cell": true
   },
   "outputs": [],
   "source": [
    "%matplotlib inline\n",
    "%reload_ext autoreload\n",
    "%autoreload 2"
   ]
  },
  {
   "cell_type": "code",
   "execution_count": 5,
   "metadata": {
    "init_cell": true
   },
   "outputs": [
    {
     "name": "stdout",
     "output_type": "stream",
     "text": [
      "Experiment tag: resnext101_32x4d_cross_entropy_fastai\n"
     ]
    }
   ],
   "source": [
    "config = dict()\n",
    "\n",
    "config['arch'] = \"densenet121\"\n",
    "config['pretrained'] = True\n",
    "config['batch_size'] = 32\n",
    "config['image_size'] = 224\n",
    "config['transforms'] = dict(do_flip=True, \n",
    "                      flip_vert=False,\n",
    "                      max_rotate=10.0, \n",
    "                      max_zoom=1.1, \n",
    "                      max_lighting=0.2, \n",
    "                      max_warp=0.2, \n",
    "                      p_affine=0.75, \n",
    "                      p_lighting=0.75)\n",
    "config['extra_transforms'] = [cutout(n_holes=(1,4), length=(20, 50), p=.5)]\n",
    "config['mixup'] = False\n",
    "config['augmix'] = False\n",
    "config['cutmix'] = False\n",
    "config['mixed_precision'] = False\n",
    "config['learning_rate'] = 1e-2\n",
    "config['weight_decay'] = 1e-2\n",
    "config['dropout'] = 0.5\n",
    "config['loss'] = \"cross_entropy\"\n",
    "if WAND_LOGGING:\n",
    "    config['wandb_callbacks'] = partial(WandbCallback,save_model=False, mode='max', monitor='f_beta', log='all', input_type='images')\n",
    "config['oversampling'] = False\n",
    "config['stratified_sampling'] = False\n",
    "\n",
    "def get_model_str():\n",
    "    loss_str = config[\"loss\"]\n",
    "    model_str = config[\"arch\"]\n",
    "    model_tag = \"{}_{}_fastai\".format(model_str, loss_str)\n",
    "    if config['mixup']:\n",
    "        model_tag = model_tag+\"_mixup\"\n",
    "    if config['augmix']:\n",
    "        model_tag = model_tag+\"_augmix\"\n",
    "    if config['cutmix']:\n",
    "        model_tag = model_tag+\"_cutmix\"\n",
    "    if config['oversampling']:\n",
    "        model_tag = model_tag+\"_oversampling\"\n",
    "    if config['stratified_sampling']:\n",
    "        model_tag = model_tag+\"_stratified_sampling\"\n",
    "    return model_tag\n",
    "\n",
    "model_tag = get_model_str()\n",
    "config[\"model_str\"] = model_tag\n",
    "print(\"Experiment tag: {}\".format(config[\"model_str\"]))\n",
    "if WAND_LOGGING:\n",
    "    config['project_name'] = 'Covid_xray'\n",
    "#     wandb.init(project=\"hacker_earth_gala\", name=model_tag, config=config)"
   ]
  },
  {
   "cell_type": "markdown",
   "metadata": {},
   "source": [
    "# Setup"
   ]
  },
  {
   "cell_type": "code",
   "execution_count": 6,
   "metadata": {
    "init_cell": true
   },
   "outputs": [],
   "source": [
    "train = pd.read_csv(root_path/\"train_split.txt\", sep=' ', header=None, names=['id','Image','Class']).drop('id',axis=1)\n",
    "test = pd.read_csv(root_path/\"test_split.txt\", sep=' ', header=None, names=['id','Image','Class']).drop('id',axis=1)\n",
    "from sklearn.model_selection import StratifiedShuffleSplit\n",
    "cv = StratifiedShuffleSplit(n_splits=2, test_size=0.1, random_state=42)\n",
    "train_idx, val_idx = next(cv.split(train['Image'],train['Class']))\n",
    "\n",
    "data = None\n",
    "def get_data_bunch(n_workers=4, reload=False):\n",
    "    global data\n",
    "    if reload:\n",
    "        data = None\n",
    "    tfms_args = config['transforms']\n",
    "    tfms_args['xtra_tfms'] = config['extra_transforms']\n",
    "    tfms = get_transforms(**tfms_args)\n",
    "    if data is None:\n",
    "        data = (ImageList.from_df(train, path = train_path)\n",
    "        #         .split_by_rand_pct(0.1)\n",
    "                .split_by_idxs(train_idx.tolist(), val_idx.tolist())\n",
    "                .label_from_df(cols=['Class'])\n",
    "                .transform(tfms=tfms, size=config['image_size']) \n",
    "                # We have our custom transformations implemented in the image loader but we could apply transformations also here\n",
    "                # Even though we don't apply transformations here, we set two empty lists to tfms. Train and Validation augmentations\n",
    "        #         .normalize()\n",
    "               .add_test(ImageList.from_df(test, path=test_path))\n",
    "                .databunch(bs=config['batch_size'], num_workers = n_workers)\n",
    "                .normalize()\n",
    "               )\n",
    "    return data\n",
    "\n",
    "# def resnext101_32x4d(pretrained=False):\n",
    "#     pretrained = 'imagenet' if pretrained else None\n",
    "#     model = pretrainedmodels.resnext101_32x4d(pretrained=pretrained)\n",
    "#     all_layers = list(model.children())\n",
    "#     return nn.Sequential(*all_layers[0], *all_layers[1:])\n",
    "\n",
    "# model_meta[resnext101_32x4d] = {'cut': -2, 'split': lambda m: (m[0][6], m[1]) }\n",
    "\n",
    "def get_callback_fns(wandb_flag,save_callback_flag):\n",
    "    callback_fns = [ShowGraph]\n",
    "    if save_callback_flag:\n",
    "        callback_fns.append(partial(SaveModelCallback,monitor='f_beta', mode='max', every='improvement', name=config['model_str']+\"_best_model\"))\n",
    "    if config['oversampling']:\n",
    "        callback_fns.append(partial(OverSamplingCallback))\n",
    "    if config['stratified_sampling']:\n",
    "        callback_fns.append(partial(Sampling_call_back,weights,len(data.train_dl)))\n",
    "    if WAND_LOGGING:\n",
    "        if wandb_flag:\n",
    "            callback_fns.append(config['wandb_callbacks'])\n",
    "    return callback_fns\n",
    "\n",
    "def getLearner(wandb_flag=True, reload_data=False, saved_file=None, save_callback_flag=True):\n",
    "    data = get_data_bunch(reload=reload_data)\n",
    "    callback_fns = get_callback_fns(wandb_flag, save_callback_flag)\n",
    "    callbacks = []\n",
    "    f1_score = FBeta(beta=1, average=\"weighted\")\n",
    "    learner = cnn_learner(data, densenet121, \n",
    "                         pretrained=config['pretrained'], \n",
    "                         path='.', \n",
    "                         metrics=[accuracy,f1_score], \n",
    "                         ps=config['dropout'], \n",
    "                         callback_fns=callback_fns,\n",
    "                        loss_func = loss_dict[config['loss']])\n",
    "    if saved_file is not None:\n",
    "        learner.load(saved_file)\n",
    "        # learner.callback_fns = callback_fns\n",
    "        if reload_data:\n",
    "            learner.data = data\n",
    "            \n",
    "    if config['mixup']:\n",
    "        learner.mixup()\n",
    "    if config['mixed_precision']:\n",
    "        learner.to_fp16()\n",
    "    return learner\n"
   ]
  },
  {
   "cell_type": "markdown",
   "metadata": {},
   "source": [
    "# Training"
   ]
  },
  {
   "cell_type": "markdown",
   "metadata": {
    "heading_collapsed": true
   },
   "source": [
    "## LR Find"
   ]
  },
  {
   "cell_type": "code",
   "execution_count": 8,
   "metadata": {
    "hidden": true
   },
   "outputs": [
    {
     "data": {
      "text/html": [
       "\n",
       "    <div>\n",
       "        <style>\n",
       "            /* Turns off some styling */\n",
       "            progress {\n",
       "                /* gets rid of default border in Firefox and Opera. */\n",
       "                border: none;\n",
       "                /* Needs to be in here for Safari polyfill so background images work as expected. */\n",
       "                background-size: auto;\n",
       "            }\n",
       "            .progress-bar-interrupted, .progress-bar-interrupted::-webkit-progress-bar {\n",
       "                background: #F44336;\n",
       "            }\n",
       "        </style>\n",
       "      <progress value='3' class='' max='5', style='width:300px; height:20px; vertical-align: middle;'></progress>\n",
       "      60.00% [3/5 03:44<02:29]\n",
       "    </div>\n",
       "    \n",
       "<table border=\"1\" class=\"dataframe\">\n",
       "  <thead>\n",
       "    <tr style=\"text-align: left;\">\n",
       "      <th>epoch</th>\n",
       "      <th>train_loss</th>\n",
       "      <th>valid_loss</th>\n",
       "      <th>accuracy</th>\n",
       "      <th>f_beta</th>\n",
       "      <th>time</th>\n",
       "    </tr>\n",
       "  </thead>\n",
       "  <tbody>\n",
       "    <tr>\n",
       "      <td>0</td>\n",
       "      <td>2.456077</td>\n",
       "      <td>#na#</td>\n",
       "      <td>01:17</td>\n",
       "    </tr>\n",
       "    <tr>\n",
       "      <td>1</td>\n",
       "      <td>1.485351</td>\n",
       "      <td>#na#</td>\n",
       "      <td>01:13</td>\n",
       "    </tr>\n",
       "    <tr>\n",
       "      <td>2</td>\n",
       "      <td>1.337779</td>\n",
       "      <td>#na#</td>\n",
       "      <td>01:13</td>\n",
       "    </tr>\n",
       "  </tbody>\n",
       "</table><p>\n",
       "\n",
       "    <div>\n",
       "        <style>\n",
       "            /* Turns off some styling */\n",
       "            progress {\n",
       "                /* gets rid of default border in Firefox and Opera. */\n",
       "                border: none;\n",
       "                /* Needs to be in here for Safari polyfill so background images work as expected. */\n",
       "                background-size: auto;\n",
       "            }\n",
       "            .progress-bar-interrupted, .progress-bar-interrupted::-webkit-progress-bar {\n",
       "                background: #F44336;\n",
       "            }\n",
       "        </style>\n",
       "      <progress value='42' class='' max='149', style='width:300px; height:20px; vertical-align: middle;'></progress>\n",
       "      28.19% [42/149 00:21<00:55 3.7872]\n",
       "    </div>\n",
       "    "
      ],
      "text/plain": [
       "<IPython.core.display.HTML object>"
      ]
     },
     "metadata": {},
     "output_type": "display_data"
    },
    {
     "name": "stdout",
     "output_type": "stream",
     "text": [
      "LR Finder is complete, type {learner_name}.recorder.plot() to see the graph.\n"
     ]
    },
    {
     "data": {
      "text/html": [
       "\n",
       "    <div>\n",
       "        <style>\n",
       "            /* Turns off some styling */\n",
       "            progress {\n",
       "                /* gets rid of default border in Firefox and Opera. */\n",
       "                border: none;\n",
       "                /* Needs to be in here for Safari polyfill so background images work as expected. */\n",
       "                background-size: auto;\n",
       "            }\n",
       "            .progress-bar-interrupted, .progress-bar-interrupted::-webkit-progress-bar {\n",
       "                background: #F44336;\n",
       "            }\n",
       "        </style>\n",
       "      <progress value='3' class='' max='5', style='width:300px; height:20px; vertical-align: middle;'></progress>\n",
       "      60.00% [3/5 03:45<02:30]\n",
       "    </div>\n",
       "    \n",
       "<table border=\"1\" class=\"dataframe\">\n",
       "  <thead>\n",
       "    <tr style=\"text-align: left;\">\n",
       "      <th>epoch</th>\n",
       "      <th>train_loss</th>\n",
       "      <th>valid_loss</th>\n",
       "      <th>accuracy</th>\n",
       "      <th>f_beta</th>\n",
       "      <th>time</th>\n",
       "    </tr>\n",
       "  </thead>\n",
       "  <tbody>\n",
       "    <tr>\n",
       "      <td>0</td>\n",
       "      <td>2.439191</td>\n",
       "      <td>#na#</td>\n",
       "      <td>01:15</td>\n",
       "    </tr>\n",
       "    <tr>\n",
       "      <td>1</td>\n",
       "      <td>1.503257</td>\n",
       "      <td>#na#</td>\n",
       "      <td>01:14</td>\n",
       "    </tr>\n",
       "    <tr>\n",
       "      <td>2</td>\n",
       "      <td>1.457723</td>\n",
       "      <td>#na#</td>\n",
       "      <td>01:15</td>\n",
       "    </tr>\n",
       "  </tbody>\n",
       "</table><p>\n",
       "\n",
       "    <div>\n",
       "        <style>\n",
       "            /* Turns off some styling */\n",
       "            progress {\n",
       "                /* gets rid of default border in Firefox and Opera. */\n",
       "                border: none;\n",
       "                /* Needs to be in here for Safari polyfill so background images work as expected. */\n",
       "                background-size: auto;\n",
       "            }\n",
       "            .progress-bar-interrupted, .progress-bar-interrupted::-webkit-progress-bar {\n",
       "                background: #F44336;\n",
       "            }\n",
       "        </style>\n",
       "      <progress value='41' class='' max='149', style='width:300px; height:20px; vertical-align: middle;'></progress>\n",
       "      27.52% [41/149 00:21<00:57 3.9260]\n",
       "    </div>\n",
       "    "
      ],
      "text/plain": [
       "<IPython.core.display.HTML object>"
      ]
     },
     "metadata": {},
     "output_type": "display_data"
    },
    {
     "name": "stdout",
     "output_type": "stream",
     "text": [
      "LR Finder is complete, type {learner_name}.recorder.plot() to see the graph.\n"
     ]
    },
    {
     "data": {
      "text/html": [
       "\n",
       "    <div>\n",
       "        <style>\n",
       "            /* Turns off some styling */\n",
       "            progress {\n",
       "                /* gets rid of default border in Firefox and Opera. */\n",
       "                border: none;\n",
       "                /* Needs to be in here for Safari polyfill so background images work as expected. */\n",
       "                background-size: auto;\n",
       "            }\n",
       "            .progress-bar-interrupted, .progress-bar-interrupted::-webkit-progress-bar {\n",
       "                background: #F44336;\n",
       "            }\n",
       "        </style>\n",
       "      <progress value='3' class='' max='5', style='width:300px; height:20px; vertical-align: middle;'></progress>\n",
       "      60.00% [3/5 03:44<02:29]\n",
       "    </div>\n",
       "    \n",
       "<table border=\"1\" class=\"dataframe\">\n",
       "  <thead>\n",
       "    <tr style=\"text-align: left;\">\n",
       "      <th>epoch</th>\n",
       "      <th>train_loss</th>\n",
       "      <th>valid_loss</th>\n",
       "      <th>accuracy</th>\n",
       "      <th>f_beta</th>\n",
       "      <th>time</th>\n",
       "    </tr>\n",
       "  </thead>\n",
       "  <tbody>\n",
       "    <tr>\n",
       "      <td>0</td>\n",
       "      <td>2.464939</td>\n",
       "      <td>#na#</td>\n",
       "      <td>01:14</td>\n",
       "    </tr>\n",
       "    <tr>\n",
       "      <td>1</td>\n",
       "      <td>1.524207</td>\n",
       "      <td>#na#</td>\n",
       "      <td>01:13</td>\n",
       "    </tr>\n",
       "    <tr>\n",
       "      <td>2</td>\n",
       "      <td>1.463756</td>\n",
       "      <td>#na#</td>\n",
       "      <td>01:15</td>\n",
       "    </tr>\n",
       "  </tbody>\n",
       "</table><p>\n",
       "\n",
       "    <div>\n",
       "        <style>\n",
       "            /* Turns off some styling */\n",
       "            progress {\n",
       "                /* gets rid of default border in Firefox and Opera. */\n",
       "                border: none;\n",
       "                /* Needs to be in here for Safari polyfill so background images work as expected. */\n",
       "                background-size: auto;\n",
       "            }\n",
       "            .progress-bar-interrupted, .progress-bar-interrupted::-webkit-progress-bar {\n",
       "                background: #F44336;\n",
       "            }\n",
       "        </style>\n",
       "      <progress value='44' class='' max='149', style='width:300px; height:20px; vertical-align: middle;'></progress>\n",
       "      29.53% [44/149 00:26<01:02 3.8940]\n",
       "    </div>\n",
       "    "
      ],
      "text/plain": [
       "<IPython.core.display.HTML object>"
      ]
     },
     "metadata": {},
     "output_type": "display_data"
    },
    {
     "name": "stdout",
     "output_type": "stream",
     "text": [
      "LR Finder is complete, type {learner_name}.recorder.plot() to see the graph.\n"
     ]
    }
   ],
   "source": [
    "learner = getLearner(wandb_flag=False, reload_data=False, saved_file=None, save_callback_flag=False)\n",
    "# We can use lr_find with different weight decays and record all losses so that we can plot them on the same graph\n",
    "# Number of iterations is by default 100, but at this low number of itrations, there might be too much variance\n",
    "# from random sampling that makes it difficult to compare WD's. I recommend using an iteration count of at least 300 for more consistent results.\n",
    "lrs = []\n",
    "losses = []\n",
    "wds = []\n",
    "iter_count = 600\n",
    "\n",
    "# WEIGHT DECAY = 1e-6\n",
    "learner.lr_find(wd=1e-6, num_it=iter_count)\n",
    "lrs.append(learner.recorder.lrs)\n",
    "losses.append(learner.recorder.losses)\n",
    "wds.append('1e-6')\n",
    "learner = getLearner(wandb_flag=False, reload_data=False, saved_file=None, save_callback_flag=False) #reset learner - this gets more consistent starting conditions\n",
    "\n",
    "# WEIGHT DECAY = 1e-4\n",
    "learner.lr_find(wd=1e-4, num_it=iter_count)\n",
    "lrs.append(learner.recorder.lrs)\n",
    "losses.append(learner.recorder.losses)\n",
    "wds.append('1e-4')\n",
    "learner = getLearner(wandb_flag=False, reload_data=False, saved_file=None, save_callback_flag=False) #reset learner - this gets more consistent starting conditions\n",
    "\n",
    "# WEIGHT DECAY = 1e-2\n",
    "learner.lr_find(wd=1e-2, num_it=iter_count)\n",
    "lrs.append(learner.recorder.lrs)\n",
    "losses.append(learner.recorder.losses)\n",
    "wds.append('1e-2')\n",
    "# learner = getLearner(wandb_flag=False) #reset learner"
   ]
  },
  {
   "cell_type": "code",
   "execution_count": 9,
   "metadata": {
    "hidden": true
   },
   "outputs": [
    {
     "data": {
      "image/png": "[encoded data removed]",
      "text/plain": [
       "<Figure size 432x288 with 1 Axes>"
      ]
     },
     "metadata": {
      "needs_background": "light"
     },
     "output_type": "display_data"
    }
   ],
   "source": [
    "%matplotlib inline\n",
    "# Plot weight decays\n",
    "_, ax = plt.subplots(1,1)\n",
    "min_y = 0.5\n",
    "max_y = 0.55\n",
    "for i in range(len(losses)):\n",
    "    ax.plot(lrs[i], losses[i])\n",
    "    min_y = min(np.asarray(losses[i]).min(), min_y)\n",
    "ax.set_ylabel(\"Loss\")\n",
    "ax.set_xlabel(\"Learning Rate\")\n",
    "ax.set_xscale('log')\n",
    "#ax ranges may need some tuning with different model architectures \n",
    "# ax.set_xlim((1e-3,1e-1))\n",
    "# ax.set_ylim((min_y - 0.02,max_y))\n",
    "ax.legend(wds)\n",
    "ax.xaxis.set_major_formatter(plt.FormatStrFormatter('%.0e'))"
   ]
  },
  {
   "cell_type": "markdown",
   "metadata": {},
   "source": [
    "## Pretrained Training"
   ]
  },
  {
   "cell_type": "code",
   "execution_count": 6,
   "metadata": {},
   "outputs": [
    {
     "data": {
      "text/html": [
       "\n",
       "                Logging results to <a href=\"https://wandb.com\" target=\"_blank\">Weights & Biases</a> <a href=\"https://docs.wandb.com/integrations/jupyter.html\" target=\"_blank\">(Documentation)</a>.<br/>\n",
       "                Project page: <a href=\"https://app.wandb.ai/manujosephv/Covid_xray\" target=\"_blank\">https://app.wandb.ai/manujosephv/Covid_xray</a><br/>\n",
       "                Run page: <a href=\"https://app.wandb.ai/manujosephv/Covid_xray/runs/1htd7xew\" target=\"_blank\">https://app.wandb.ai/manujosephv/Covid_xray/runs/1htd7xew</a><br/>\n",
       "            "
      ],
      "text/plain": [
       "<IPython.core.display.HTML object>"
      ]
     },
     "metadata": {},
     "output_type": "display_data"
    }
   ],
   "source": [
    "config['learning_rate'] = max_lr = 1e-2\n",
    "config['weight_decay'] = wd = 1e-4\n",
    "if WAND_LOGGING:\n",
    "    run_obj = wandb.init(project=config['project_name'], name = model_tag, config=config)\n",
    "run_id = run_obj.get_url().split(\"/\")[-1]\n",
    "root_dir = os.path.split(run_obj.description_path)[0]"
   ]
  },
  {
   "cell_type": "code",
   "execution_count": 7,
   "metadata": {
    "scrolled": false
   },
   "outputs": [
    {
     "data": {
      "text/html": [
       "<table border=\"1\" class=\"dataframe\">\n",
       "  <thead>\n",
       "    <tr style=\"text-align: left;\">\n",
       "      <th>epoch</th>\n",
       "      <th>train_loss</th>\n",
       "      <th>valid_loss</th>\n",
       "      <th>accuracy</th>\n",
       "      <th>f_beta</th>\n",
       "      <th>time</th>\n",
       "    </tr>\n",
       "  </thead>\n",
       "  <tbody>\n",
       "    <tr>\n",
       "      <td>0</td>\n",
       "      <td>0.973311</td>\n",
       "      <td>0.779179</td>\n",
       "      <td>0.726930</td>\n",
       "      <td>0.728193</td>\n",
       "      <td>01:49</td>\n",
       "    </tr>\n",
       "    <tr>\n",
       "      <td>1</td>\n",
       "      <td>0.689502</td>\n",
       "      <td>0.672795</td>\n",
       "      <td>0.715631</td>\n",
       "      <td>0.717985</td>\n",
       "      <td>01:45</td>\n",
       "    </tr>\n",
       "    <tr>\n",
       "      <td>2</td>\n",
       "      <td>0.692509</td>\n",
       "      <td>1.536672</td>\n",
       "      <td>0.642185</td>\n",
       "      <td>0.617204</td>\n",
       "      <td>01:35</td>\n",
       "    </tr>\n",
       "    <tr>\n",
       "      <td>3</td>\n",
       "      <td>0.734854</td>\n",
       "      <td>0.589834</td>\n",
       "      <td>0.745763</td>\n",
       "      <td>0.748838</td>\n",
       "      <td>01:32</td>\n",
       "    </tr>\n",
       "    <tr>\n",
       "      <td>4</td>\n",
       "      <td>0.605087</td>\n",
       "      <td>0.603427</td>\n",
       "      <td>0.758945</td>\n",
       "      <td>0.763647</td>\n",
       "      <td>01:44</td>\n",
       "    </tr>\n",
       "    <tr>\n",
       "      <td>5</td>\n",
       "      <td>0.543454</td>\n",
       "      <td>0.456506</td>\n",
       "      <td>0.804143</td>\n",
       "      <td>0.800981</td>\n",
       "      <td>01:35</td>\n",
       "    </tr>\n",
       "    <tr>\n",
       "      <td>6</td>\n",
       "      <td>0.556960</td>\n",
       "      <td>0.494254</td>\n",
       "      <td>0.802260</td>\n",
       "      <td>0.797465</td>\n",
       "      <td>01:38</td>\n",
       "    </tr>\n",
       "    <tr>\n",
       "      <td>7</td>\n",
       "      <td>0.506922</td>\n",
       "      <td>0.422480</td>\n",
       "      <td>0.817326</td>\n",
       "      <td>0.815956</td>\n",
       "      <td>01:39</td>\n",
       "    </tr>\n",
       "    <tr>\n",
       "      <td>8</td>\n",
       "      <td>0.477548</td>\n",
       "      <td>0.402579</td>\n",
       "      <td>0.828625</td>\n",
       "      <td>0.822916</td>\n",
       "      <td>01:38</td>\n",
       "    </tr>\n",
       "    <tr>\n",
       "      <td>9</td>\n",
       "      <td>0.424724</td>\n",
       "      <td>0.406238</td>\n",
       "      <td>0.821092</td>\n",
       "      <td>0.819018</td>\n",
       "      <td>01:39</td>\n",
       "    </tr>\n",
       "  </tbody>\n",
       "</table>"
      ],
      "text/plain": [
       "<IPython.core.display.HTML object>"
      ]
     },
     "metadata": {},
     "output_type": "display_data"
    },
    {
     "data": {
      "image/png": "[encoded data removed]",
      "text/plain": [
       "<Figure size 432x288 with 1 Axes>"
      ]
     },
     "metadata": {},
     "output_type": "display_data"
    },
    {
     "name": "stdout",
     "output_type": "stream",
     "text": [
      "Better model found at epoch 0 with f_beta value: 0.7281932830810547.\n",
      "Better model found at epoch 3 with f_beta value: 0.748837947845459.\n",
      "Better model found at epoch 4 with f_beta value: 0.7636470794677734.\n",
      "Better model found at epoch 5 with f_beta value: 0.8009809255599976.\n",
      "Better model found at epoch 7 with f_beta value: 0.8159556984901428.\n",
      "Better model found at epoch 8 with f_beta value: 0.8229159116744995.\n"
     ]
    },
    {
     "data": {
      "text/html": [
       "<table border=\"1\" class=\"dataframe\">\n",
       "  <thead>\n",
       "    <tr style=\"text-align: left;\">\n",
       "      <th>epoch</th>\n",
       "      <th>train_loss</th>\n",
       "      <th>valid_loss</th>\n",
       "      <th>accuracy</th>\n",
       "      <th>f_beta</th>\n",
       "      <th>time</th>\n",
       "    </tr>\n",
       "  </thead>\n",
       "  <tbody>\n",
       "    <tr>\n",
       "      <td>0</td>\n",
       "      <td>0.439822</td>\n",
       "      <td>0.403264</td>\n",
       "      <td>0.822976</td>\n",
       "      <td>0.818646</td>\n",
       "      <td>01:46</td>\n",
       "    </tr>\n",
       "    <tr>\n",
       "      <td>1</td>\n",
       "      <td>0.565739</td>\n",
       "      <td>0.487018</td>\n",
       "      <td>0.774011</td>\n",
       "      <td>0.775851</td>\n",
       "      <td>01:47</td>\n",
       "    </tr>\n",
       "    <tr>\n",
       "      <td>2</td>\n",
       "      <td>0.644451</td>\n",
       "      <td>1.198759</td>\n",
       "      <td>0.732580</td>\n",
       "      <td>0.684134</td>\n",
       "      <td>01:46</td>\n",
       "    </tr>\n",
       "    <tr>\n",
       "      <td>3</td>\n",
       "      <td>0.634398</td>\n",
       "      <td>1.307943</td>\n",
       "      <td>0.623352</td>\n",
       "      <td>0.575061</td>\n",
       "      <td>01:43</td>\n",
       "    </tr>\n",
       "    <tr>\n",
       "      <td>4</td>\n",
       "      <td>0.535952</td>\n",
       "      <td>0.701570</td>\n",
       "      <td>0.760829</td>\n",
       "      <td>0.748832</td>\n",
       "      <td>01:41</td>\n",
       "    </tr>\n",
       "    <tr>\n",
       "      <td>5</td>\n",
       "      <td>0.537552</td>\n",
       "      <td>12.626057</td>\n",
       "      <td>0.809793</td>\n",
       "      <td>0.800342</td>\n",
       "      <td>01:41</td>\n",
       "    </tr>\n",
       "    <tr>\n",
       "      <td>6</td>\n",
       "      <td>0.486293</td>\n",
       "      <td>200.023087</td>\n",
       "      <td>0.819209</td>\n",
       "      <td>0.812860</td>\n",
       "      <td>01:42</td>\n",
       "    </tr>\n",
       "    <tr>\n",
       "      <td>7</td>\n",
       "      <td>0.467706</td>\n",
       "      <td>34.805626</td>\n",
       "      <td>0.839925</td>\n",
       "      <td>0.832402</td>\n",
       "      <td>01:41</td>\n",
       "    </tr>\n",
       "    <tr>\n",
       "      <td>8</td>\n",
       "      <td>0.452944</td>\n",
       "      <td>104.224838</td>\n",
       "      <td>0.807910</td>\n",
       "      <td>0.803980</td>\n",
       "      <td>01:42</td>\n",
       "    </tr>\n",
       "    <tr>\n",
       "      <td>9</td>\n",
       "      <td>0.449678</td>\n",
       "      <td>214.425003</td>\n",
       "      <td>0.821092</td>\n",
       "      <td>0.816087</td>\n",
       "      <td>01:26</td>\n",
       "    </tr>\n",
       "  </tbody>\n",
       "</table>"
      ],
      "text/plain": [
       "<IPython.core.display.HTML object>"
      ]
     },
     "metadata": {},
     "output_type": "display_data"
    },
    {
     "data": {
      "image/png": "[encoded data removed]",
      "text/plain": [
       "<Figure size 432x288 with 1 Axes>"
      ]
     },
     "metadata": {},
     "output_type": "display_data"
    },
    {
     "name": "stdout",
     "output_type": "stream",
     "text": [
      "Better model found at epoch 0 with f_beta value: 0.8186464309692383.\n",
      "Better model found at epoch 7 with f_beta value: 0.8324018716812134.\n"
     ]
    }
   ],
   "source": [
    "learner = getLearner(wandb_flag=True, reload_data=False, saved_file=None) #reset learner\n",
    "# 1cycle policy\n",
    "learner.fit_one_cycle(cyc_len=10, max_lr=max_lr, wd=wd)\n",
    "learner.load(config['model_str']+\"_best_model\")\n",
    "learner.save(\"_stage1\")\n",
    "learner.fit_one_cycle(cyc_len=10, max_lr=max_lr, wd=wd)\n",
    "learner.load(config['model_str']+\"_best_model\")\n",
    "learner.save(\"_stage2\")"
   ]
  },
  {
   "cell_type": "code",
   "execution_count": 11,
   "metadata": {},
   "outputs": [],
   "source": [
    "learner.load(\"_stage2\")\n",
    "learner.save(config['model_str']+\"_{}\".format(\"stage_1_alt_high_loss\"))"
   ]
  },
  {
   "cell_type": "code",
   "execution_count": 12,
   "metadata": {},
   "outputs": [],
   "source": [
    "wandb.join()"
   ]
  },
  {
   "cell_type": "code",
   "execution_count": null,
   "metadata": {},
   "outputs": [],
   "source": [
    "learner = getLearner(wandb_flag=True, reload_data=False, saved_file=config['model_str']+\"_stage_1\")"
   ]
  },
  {
   "cell_type": "code",
   "execution_count": 9,
   "metadata": {},
   "outputs": [
    {
     "data": {
      "text/html": [],
      "text/plain": [
       "<IPython.core.display.HTML object>"
      ]
     },
     "metadata": {},
     "output_type": "display_data"
    },
    {
     "data": {
      "image/png": "[encoded data removed]",
      "text/plain": [
       "<Figure size 432x288 with 1 Axes>"
      ]
     },
     "metadata": {
      "needs_background": "light"
     },
     "output_type": "display_data"
    }
   ],
   "source": [
    "# predict the validation set with our model\n",
    "interp = ClassificationInterpretation.from_learner(learner)\n",
    "interp.plot_confusion_matrix(title='Confusion matrix')"
   ]
  },
  {
   "cell_type": "markdown",
   "metadata": {},
   "source": [
    "# Finetuning"
   ]
  },
  {
   "cell_type": "code",
   "execution_count": 13,
   "metadata": {},
   "outputs": [
    {
     "data": {
      "text/html": [
       "\n",
       "                Logging results to <a href=\"https://wandb.com\" target=\"_blank\">Weights & Biases</a> <a href=\"https://docs.wandb.com/integrations/jupyter.html\" target=\"_blank\">(Documentation)</a>.<br/>\n",
       "                Project page: <a href=\"https://app.wandb.ai/manujosephv/Covid_xray\" target=\"_blank\">https://app.wandb.ai/manujosephv/Covid_xray</a><br/>\n",
       "                Run page: <a href=\"https://app.wandb.ai/manujosephv/Covid_xray/runs/2i7bnm78\" target=\"_blank\">https://app.wandb.ai/manujosephv/Covid_xray/runs/2i7bnm78</a><br/>\n",
       "            "
      ],
      "text/plain": [
       "<IPython.core.display.HTML object>"
      ]
     },
     "metadata": {},
     "output_type": "display_data"
    }
   ],
   "source": [
    "# config['mixup'] = True\n",
    "model_str = get_model_str()\n",
    "config['model_str'] = model_str\n",
    "finetune_run_name = config['model_str'] + \"_finetune\"\n",
    "\n",
    "if WAND_LOGGING:\n",
    "    finetune_run = wandb.init(project=config['project_name'], name = finetune_run_name, config=config)"
   ]
  },
  {
   "cell_type": "markdown",
   "metadata": {},
   "source": [
    "## LR Find"
   ]
  },
  {
   "cell_type": "code",
   "execution_count": 9,
   "metadata": {},
   "outputs": [],
   "source": [
    "learner = getLearner(wandb_flag=False, \n",
    "                     reload_data=True, \n",
    "                     saved_file=\"resnext101_32x4d_cross_entropy_fastai_stage_1_alt_high_loss\", \n",
    "                     save_callback_flag=False)"
   ]
  },
  {
   "cell_type": "code",
   "execution_count": 14,
   "metadata": {},
   "outputs": [
    {
     "data": {
      "text/html": [
       "\n",
       "    <div>\n",
       "        <style>\n",
       "            /* Turns off some styling */\n",
       "            progress {\n",
       "                /* gets rid of default border in Firefox and Opera. */\n",
       "                border: none;\n",
       "                /* Needs to be in here for Safari polyfill so background images work as expected. */\n",
       "                background-size: auto;\n",
       "            }\n",
       "            .progress-bar-interrupted, .progress-bar-interrupted::-webkit-progress-bar {\n",
       "                background: #F44336;\n",
       "            }\n",
       "        </style>\n",
       "      <progress value='0' class='' max='1', style='width:300px; height:20px; vertical-align: middle;'></progress>\n",
       "      0.00% [0/1 00:00<00:00]\n",
       "    </div>\n",
       "    \n",
       "<table border=\"1\" class=\"dataframe\">\n",
       "  <thead>\n",
       "    <tr style=\"text-align: left;\">\n",
       "      <th>epoch</th>\n",
       "      <th>train_loss</th>\n",
       "      <th>valid_loss</th>\n",
       "      <th>accuracy</th>\n",
       "      <th>f_beta</th>\n",
       "      <th>time</th>\n",
       "    </tr>\n",
       "  </thead>\n",
       "  <tbody>\n",
       "  </tbody>\n",
       "</table><p>\n",
       "\n",
       "    <div>\n",
       "        <style>\n",
       "            /* Turns off some styling */\n",
       "            progress {\n",
       "                /* gets rid of default border in Firefox and Opera. */\n",
       "                border: none;\n",
       "                /* Needs to be in here for Safari polyfill so background images work as expected. */\n",
       "                background-size: auto;\n",
       "            }\n",
       "            .progress-bar-interrupted, .progress-bar-interrupted::-webkit-progress-bar {\n",
       "                background: #F44336;\n",
       "            }\n",
       "        </style>\n",
       "      <progress value='99' class='' max='149', style='width:300px; height:20px; vertical-align: middle;'></progress>\n",
       "      66.44% [99/149 01:02<00:31 0.8586]\n",
       "    </div>\n",
       "    "
      ],
      "text/plain": [
       "<IPython.core.display.HTML object>"
      ]
     },
     "metadata": {},
     "output_type": "display_data"
    },
    {
     "name": "stdout",
     "output_type": "stream",
     "text": [
      "LR Finder is complete, type {learner_name}.recorder.plot() to see the graph.\n"
     ]
    },
    {
     "data": {
      "image/png": "[encoded data removed]",
      "text/plain": [
       "<Figure size 432x288 with 1 Axes>"
      ]
     },
     "metadata": {
      "needs_background": "light"
     },
     "output_type": "display_data"
    }
   ],
   "source": [
    "# load the baseline model\n",
    "learner = getLearner(wandb_flag=False, reload_data=True, saved_file=config['model_str']+\"_stage_1\", save_callback_flag=False)\n",
    "\n",
    "# unfreeze and run learning rate finder again\n",
    "learner.unfreeze()\n",
    "learner.lr_find(wd=config['weight_decay'] ,start_lr = 1e-14, end_lr = 1e-1)\n",
    "\n",
    "# plot learning rate finder results\n",
    "learner.recorder.plot()"
   ]
  },
  {
   "cell_type": "markdown",
   "metadata": {},
   "source": [
    "## Training"
   ]
  },
  {
   "cell_type": "code",
   "execution_count": 15,
   "metadata": {},
   "outputs": [],
   "source": [
    "learner = getLearner(reload_data=False, saved_file=config['model_str']+\"_stage_1\")\n",
    "learner.unfreeze()"
   ]
  },
  {
   "cell_type": "code",
   "execution_count": 16,
   "metadata": {},
   "outputs": [
    {
     "data": {
      "text/html": [
       "<table border=\"1\" class=\"dataframe\">\n",
       "  <thead>\n",
       "    <tr style=\"text-align: left;\">\n",
       "      <th>epoch</th>\n",
       "      <th>train_loss</th>\n",
       "      <th>valid_loss</th>\n",
       "      <th>accuracy</th>\n",
       "      <th>f_beta</th>\n",
       "      <th>time</th>\n",
       "    </tr>\n",
       "  </thead>\n",
       "  <tbody>\n",
       "    <tr>\n",
       "      <td>0</td>\n",
       "      <td>0.439839</td>\n",
       "      <td>0.396274</td>\n",
       "      <td>0.822976</td>\n",
       "      <td>0.818575</td>\n",
       "      <td>01:38</td>\n",
       "    </tr>\n",
       "    <tr>\n",
       "      <td>1</td>\n",
       "      <td>0.431975</td>\n",
       "      <td>0.400298</td>\n",
       "      <td>0.828625</td>\n",
       "      <td>0.821834</td>\n",
       "      <td>01:39</td>\n",
       "    </tr>\n",
       "    <tr>\n",
       "      <td>2</td>\n",
       "      <td>0.434825</td>\n",
       "      <td>0.393514</td>\n",
       "      <td>0.832392</td>\n",
       "      <td>0.825862</td>\n",
       "      <td>01:38</td>\n",
       "    </tr>\n",
       "    <tr>\n",
       "      <td>3</td>\n",
       "      <td>0.460930</td>\n",
       "      <td>0.417087</td>\n",
       "      <td>0.817326</td>\n",
       "      <td>0.812910</td>\n",
       "      <td>01:39</td>\n",
       "    </tr>\n",
       "    <tr>\n",
       "      <td>4</td>\n",
       "      <td>0.437795</td>\n",
       "      <td>0.390548</td>\n",
       "      <td>0.836158</td>\n",
       "      <td>0.828973</td>\n",
       "      <td>01:39</td>\n",
       "    </tr>\n",
       "    <tr>\n",
       "      <td>5</td>\n",
       "      <td>0.430118</td>\n",
       "      <td>0.401633</td>\n",
       "      <td>0.822976</td>\n",
       "      <td>0.818925</td>\n",
       "      <td>01:39</td>\n",
       "    </tr>\n",
       "    <tr>\n",
       "      <td>6</td>\n",
       "      <td>0.444337</td>\n",
       "      <td>0.403634</td>\n",
       "      <td>0.821092</td>\n",
       "      <td>0.817095</td>\n",
       "      <td>01:39</td>\n",
       "    </tr>\n",
       "    <tr>\n",
       "      <td>7</td>\n",
       "      <td>0.441059</td>\n",
       "      <td>0.399493</td>\n",
       "      <td>0.824859</td>\n",
       "      <td>0.818733</td>\n",
       "      <td>01:39</td>\n",
       "    </tr>\n",
       "    <tr>\n",
       "      <td>8</td>\n",
       "      <td>0.460814</td>\n",
       "      <td>0.401497</td>\n",
       "      <td>0.821092</td>\n",
       "      <td>0.814704</td>\n",
       "      <td>01:39</td>\n",
       "    </tr>\n",
       "    <tr>\n",
       "      <td>9</td>\n",
       "      <td>0.430379</td>\n",
       "      <td>0.407595</td>\n",
       "      <td>0.828625</td>\n",
       "      <td>0.822672</td>\n",
       "      <td>01:39</td>\n",
       "    </tr>\n",
       "  </tbody>\n",
       "</table>"
      ],
      "text/plain": [
       "<IPython.core.display.HTML object>"
      ]
     },
     "metadata": {},
     "output_type": "display_data"
    },
    {
     "data": {
      "image/png": "[encoded data removed]",
      "text/plain": [
       "<Figure size 432x288 with 1 Axes>"
      ]
     },
     "metadata": {},
     "output_type": "display_data"
    },
    {
     "name": "stdout",
     "output_type": "stream",
     "text": [
      "Better model found at epoch 0 with f_beta value: 0.8185750246047974.\n",
      "Better model found at epoch 1 with f_beta value: 0.8218343257904053.\n",
      "Better model found at epoch 2 with f_beta value: 0.8258622884750366.\n",
      "Better model found at epoch 4 with f_beta value: 0.8289732933044434.\n"
     ]
    }
   ],
   "source": [
    "# Now, smaller learning rates. This time we define the min and max lr of the cycle for discriminative LRs\n",
    "learner.fit_one_cycle(cyc_len=10, max_lr=slice(1e-14,1e-8))\n",
    "learner.load(config['model_str']+\"_best_model\")\n",
    "learner.save(\"_stage1\")"
   ]
  },
  {
   "cell_type": "code",
   "execution_count": 31,
   "metadata": {},
   "outputs": [],
   "source": [
    "learner.load(\"_stage1\")\n",
    "learner.save(config['model_str']+\"_{}\".format(\"ft_stage_1\"))"
   ]
  },
  {
   "cell_type": "code",
   "execution_count": 32,
   "metadata": {},
   "outputs": [
    {
     "data": {
      "text/html": [],
      "text/plain": [
       "<IPython.core.display.HTML object>"
      ]
     },
     "metadata": {},
     "output_type": "display_data"
    },
    {
     "data": {
      "image/png": "[encoded data removed]",
      "text/plain": [
       "<Figure size 432x288 with 1 Axes>"
      ]
     },
     "metadata": {
      "needs_background": "light"
     },
     "output_type": "display_data"
    }
   ],
   "source": [
    "# predict the validation set with our model\n",
    "interp = ClassificationInterpretation.from_learner(learner)\n",
    "interp.plot_confusion_matrix(title='Confusion matrix')"
   ]
  }
 ],
 "metadata": {
  "kernelspec": {
   "display_name": "Python 3",
   "language": "python",
   "name": "python3"
  },
  "language_info": {
   "codemirror_mode": {
    "name": "ipython",
    "version": 3
   },
   "file_extension": ".py",
   "mimetype": "text/x-python",
   "name": "python",
   "nbconvert_exporter": "python",
   "pygments_lexer": "ipython3",
   "version": "3.7.6"
  }
 },
 "nbformat": 4,
 "nbformat_minor": 4
}
