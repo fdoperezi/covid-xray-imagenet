{
 "cells": [
  {
   "cell_type": "markdown",
   "metadata": {},
   "source": [
    "# Imports"
   ]
  },
  {
   "cell_type": "code",
   "execution_count": 1,
   "metadata": {
    "init_cell": true
   },
   "outputs": [],
   "source": [
    "from fastai import *\n",
    "from fastai.vision import *\n",
    "from fastai.vision.learner import model_meta\n",
    "from fastai.callbacks import SaveModelCallback\n",
    "# from torchvision.models import *  # import *=all the models from torchvision  \n",
    "from pathlib import Path\n",
    "import pandas as pd\n",
    "import numpy as np\n",
    "import cv2\n",
    "# import matplotlib.pyplot as plt\n",
    "# import matplotlib.patches as patches\n",
    "import random\n",
    "from sklearn.utils import shuffle\n",
    "from tqdm import tqdm_notebook\n",
    "import shutil\n",
    "import joblib\n",
    "from custom_callbacks_samplers import SamplingCallback, OverSamplingCallback\n",
    "import pretrainedmodels\n",
    "\n",
    "from tqdm import tqdm_notebook\n",
    "\n",
    "# from custom_losses import FocalLoss, AnchorLoss, lovasz_softmax_flat\n",
    "from custom_callbacks_samplers import SamplingCallback , OverSamplingCallback\n",
    "\n",
    "loss_dict = {\n",
    "        \"cross_entropy\": CrossEntropyFlat(),\n",
    "        # \"focal_loss\": FocalLoss(),\n",
    "        # \"anchor_loss\": AnchorLoss(),\n",
    "        # \"lovasz_softmax\": lovasz_softmax_flat,\n",
    "    }\n",
    "\n",
    "%reload_ext autoreload\n",
    "%autoreload 2\n",
    "%matplotlib inline"
   ]
  },
  {
   "cell_type": "markdown",
   "metadata": {},
   "source": [
    "# Config"
   ]
  },
  {
   "cell_type": "code",
   "execution_count": 2,
   "metadata": {
    "init_cell": true
   },
   "outputs": [],
   "source": [
    "CWD = Path.cwd()\n",
    "\n",
    "root_path = CWD / 'covid_dataset'\n",
    "train_path = root_path / \"train\"\n",
    "test_path = root_path / \"test\"\n",
    "model_save_dir = 'models'\n",
    "WAND_LOGGING = True\n",
    "if WAND_LOGGING:\n",
    "    import wandb\n",
    "    from wandb.fastai import WandbCallback\n",
    "#     \"hacker_earth_gala_individual\""
   ]
  },
  {
   "cell_type": "code",
   "execution_count": 3,
   "metadata": {
    "init_cell": true
   },
   "outputs": [],
   "source": [
    "%matplotlib inline\n",
    "%reload_ext autoreload\n",
    "%autoreload 2"
   ]
  },
  {
   "cell_type": "code",
   "execution_count": 4,
   "metadata": {
    "init_cell": true
   },
   "outputs": [
    {
     "name": "stdout",
     "output_type": "stream",
     "text": [
      "Experiment tag: xception_cross_entropy_fastai_mixup\n"
     ]
    }
   ],
   "source": [
    "config = dict()\n",
    "\n",
    "config['arch'] = \"xception\"\n",
    "config['pretrained'] = True\n",
    "config['batch_size'] = 32\n",
    "config['image_size'] = 224\n",
    "config['transforms'] = dict(do_flip=True, \n",
    "                      flip_vert=False,\n",
    "                      max_rotate=10.0, \n",
    "                      max_zoom=1.1, \n",
    "                      max_lighting=0.2, \n",
    "                      max_warp=0.2, \n",
    "                      p_affine=0.75, \n",
    "                      p_lighting=0.75)\n",
    "config['extra_transforms'] = [cutout(n_holes=(1,4), length=(20, 50), p=.5)]\n",
    "config['mixup'] = True\n",
    "config['augmix'] = False\n",
    "config['cutmix'] = False\n",
    "config['mixed_precision'] = False\n",
    "config['learning_rate'] = 1e-2\n",
    "config['weight_decay'] = 1e-2\n",
    "config['dropout'] = 0.2\n",
    "config['loss'] = \"cross_entropy\"\n",
    "if WAND_LOGGING:\n",
    "    config['wandb_callbacks'] = partial(WandbCallback,save_model=False, mode='max', monitor='f_beta', log='all', input_type='images')\n",
    "config['oversampling'] = False\n",
    "config['stratified_sampling'] = False\n",
    "\n",
    "def get_model_str():\n",
    "    loss_str = config[\"loss\"]\n",
    "    model_str = config[\"arch\"]\n",
    "    model_tag = \"{}_{}_fastai\".format(model_str, loss_str)\n",
    "    if config['mixup']:\n",
    "        model_tag = model_tag+\"_mixup\"\n",
    "    if config['augmix']:\n",
    "        model_tag = model_tag+\"_augmix\"\n",
    "    if config['cutmix']:\n",
    "        model_tag = model_tag+\"_cutmix\"\n",
    "    if config['oversampling']:\n",
    "        model_tag = model_tag+\"_oversampling\"\n",
    "    if config['stratified_sampling']:\n",
    "        model_tag = model_tag+\"_stratified_sampling\"\n",
    "    return model_tag\n",
    "\n",
    "model_tag = get_model_str()\n",
    "config[\"model_str\"] = model_tag\n",
    "print(\"Experiment tag: {}\".format(config[\"model_str\"]))\n",
    "if WAND_LOGGING:\n",
    "    config['project_name'] = 'Covid_xray'\n",
    "#     wandb.init(project=\"hacker_earth_gala\", name=model_tag, config=config)"
   ]
  },
  {
   "cell_type": "markdown",
   "metadata": {},
   "source": [
    "# Setup"
   ]
  },
  {
   "cell_type": "code",
   "execution_count": 5,
   "metadata": {
    "init_cell": true
   },
   "outputs": [],
   "source": [
    "train = pd.read_csv(root_path/\"train_split.txt\", sep=' ', header=None, names=['id','Image','Class']).drop('id',axis=1)\n",
    "test = pd.read_csv(root_path/\"test_split.txt\", sep=' ', header=None, names=['id','Image','Class']).drop('id',axis=1)\n",
    "from sklearn.model_selection import StratifiedShuffleSplit\n",
    "cv = StratifiedShuffleSplit(n_splits=2, test_size=0.1, random_state=42)\n",
    "train_idx, val_idx = next(cv.split(train['Image'],train['Class']))\n",
    "\n",
    "data = None\n",
    "def get_data_bunch(n_workers=4, reload=False):\n",
    "    global data\n",
    "    if reload:\n",
    "        data = None\n",
    "    tfms_args = config['transforms']\n",
    "    tfms_args['xtra_tfms'] = config['extra_transforms']\n",
    "    tfms = get_transforms(**tfms_args)\n",
    "    if data is None:\n",
    "        data = (ImageList.from_df(train, path = train_path)\n",
    "        #         .split_by_rand_pct(0.1)\n",
    "                .split_by_idxs(train_idx.tolist(), val_idx.tolist())\n",
    "                .label_from_df(cols=['Class'])\n",
    "                .transform(tfms=tfms, size=config['image_size']) \n",
    "                # We have our custom transformations implemented in the image loader but we could apply transformations also here\n",
    "                # Even though we don't apply transformations here, we set two empty lists to tfms. Train and Validation augmentations\n",
    "        #         .normalize()\n",
    "               .add_test(ImageList.from_df(test, path=test_path))\n",
    "                .databunch(bs=config['batch_size'], num_workers = n_workers)\n",
    "                .normalize()\n",
    "               )\n",
    "    return data\n",
    "\n",
    "# \"pretrained\" is hardcoded to adapt to the PyTorch model function\n",
    "def xception(pretrained=False):\n",
    "    pretrained = 'imagenet' if pretrained else None\n",
    "    model = pretrainedmodels.xception(pretrained=pretrained)\n",
    "    return nn.Sequential(*list(model.children()))\n",
    "\n",
    "\n",
    "model_meta[xception] = { 'cut': -1, 'split': lambda m: (m[0][11], m[1]) }\n",
    "\n",
    "def get_callback_fns(wandb_flag,save_callback_flag):\n",
    "    callback_fns = [ShowGraph]\n",
    "    if save_callback_flag:\n",
    "        callback_fns.append(partial(SaveModelCallback,monitor='f_beta', mode='max', every='improvement', name=config['model_str']+\"_best_model\"))\n",
    "    if config['oversampling']:\n",
    "        callback_fns.append(partial(OverSamplingCallback))\n",
    "    if config['stratified_sampling']:\n",
    "        callback_fns.append(partial(Sampling_call_back,weights,len(data.train_dl)))\n",
    "    if WAND_LOGGING:\n",
    "        if wandb_flag:\n",
    "            callback_fns.append(config['wandb_callbacks'])\n",
    "    return callback_fns\n",
    "\n",
    "def getLearner(wandb_flag=True, reload_data=False, saved_file=None, save_callback_flag=True):\n",
    "    data = get_data_bunch(reload=reload_data)\n",
    "    callback_fns = get_callback_fns(wandb_flag, save_callback_flag)\n",
    "    callbacks = []\n",
    "    f1_score = FBeta(beta=1, average=\"weighted\")\n",
    "    learner = cnn_learner(data, xception, \n",
    "                         pretrained=config['pretrained'], \n",
    "                         path='.', \n",
    "                         metrics=[accuracy,f1_score], \n",
    "                         ps=config['dropout'], \n",
    "                         callback_fns=callback_fns,\n",
    "                        loss_func = loss_dict[config['loss']])\n",
    "    if saved_file is not None:\n",
    "        learner.load(saved_file)\n",
    "        # learner.callback_fns = callback_fns\n",
    "        if reload_data:\n",
    "            learner.data = data\n",
    "            \n",
    "    if config['mixup']:\n",
    "        learner.mixup()\n",
    "    if config['mixed_precision']:\n",
    "        learner.to_fp16()\n",
    "    return learner\n"
   ]
  },
  {
   "cell_type": "markdown",
   "metadata": {},
   "source": [
    "# Training"
   ]
  },
  {
   "cell_type": "markdown",
   "metadata": {
    "heading_collapsed": true
   },
   "source": [
    "## LR Find"
   ]
  },
  {
   "cell_type": "code",
   "execution_count": 37,
   "metadata": {
    "hidden": true
   },
   "outputs": [
    {
     "data": {
      "text/html": [
       "\n",
       "    <div>\n",
       "        <style>\n",
       "            /* Turns off some styling */\n",
       "            progress {\n",
       "                /* gets rid of default border in Firefox and Opera. */\n",
       "                border: none;\n",
       "                /* Needs to be in here for Safari polyfill so background images work as expected. */\n",
       "                background-size: auto;\n",
       "            }\n",
       "            .progress-bar-interrupted, .progress-bar-interrupted::-webkit-progress-bar {\n",
       "                background: #F44336;\n",
       "            }\n",
       "        </style>\n",
       "      <progress value='3' class='' max='5', style='width:300px; height:20px; vertical-align: middle;'></progress>\n",
       "      60.00% [3/5 04:57<03:18]\n",
       "    </div>\n",
       "    \n",
       "<table border=\"1\" class=\"dataframe\">\n",
       "  <thead>\n",
       "    <tr style=\"text-align: left;\">\n",
       "      <th>epoch</th>\n",
       "      <th>train_loss</th>\n",
       "      <th>valid_loss</th>\n",
       "      <th>accuracy</th>\n",
       "      <th>f_beta</th>\n",
       "      <th>time</th>\n",
       "    </tr>\n",
       "  </thead>\n",
       "  <tbody>\n",
       "    <tr>\n",
       "      <td>0</td>\n",
       "      <td>1.952925</td>\n",
       "      <td>#na#</td>\n",
       "      <td>01:45</td>\n",
       "    </tr>\n",
       "    <tr>\n",
       "      <td>1</td>\n",
       "      <td>1.312675</td>\n",
       "      <td>#na#</td>\n",
       "      <td>01:39</td>\n",
       "    </tr>\n",
       "    <tr>\n",
       "      <td>2</td>\n",
       "      <td>1.413418</td>\n",
       "      <td>#na#</td>\n",
       "      <td>01:32</td>\n",
       "    </tr>\n",
       "  </tbody>\n",
       "</table><p>\n",
       "\n",
       "    <div>\n",
       "        <style>\n",
       "            /* Turns off some styling */\n",
       "            progress {\n",
       "                /* gets rid of default border in Firefox and Opera. */\n",
       "                border: none;\n",
       "                /* Needs to be in here for Safari polyfill so background images work as expected. */\n",
       "                background-size: auto;\n",
       "            }\n",
       "            .progress-bar-interrupted, .progress-bar-interrupted::-webkit-progress-bar {\n",
       "                background: #F44336;\n",
       "            }\n",
       "        </style>\n",
       "      <progress value='64' class='' max='149', style='width:300px; height:20px; vertical-align: middle;'></progress>\n",
       "      42.95% [64/149 00:39<00:52 3.9339]\n",
       "    </div>\n",
       "    "
      ],
      "text/plain": [
       "<IPython.core.display.HTML object>"
      ]
     },
     "metadata": {},
     "output_type": "display_data"
    },
    {
     "name": "stdout",
     "output_type": "stream",
     "text": [
      "LR Finder is complete, type {learner_name}.recorder.plot() to see the graph.\n"
     ]
    },
    {
     "data": {
      "text/html": [
       "\n",
       "    <div>\n",
       "        <style>\n",
       "            /* Turns off some styling */\n",
       "            progress {\n",
       "                /* gets rid of default border in Firefox and Opera. */\n",
       "                border: none;\n",
       "                /* Needs to be in here for Safari polyfill so background images work as expected. */\n",
       "                background-size: auto;\n",
       "            }\n",
       "            .progress-bar-interrupted, .progress-bar-interrupted::-webkit-progress-bar {\n",
       "                background: #F44336;\n",
       "            }\n",
       "        </style>\n",
       "      <progress value='3' class='' max='5', style='width:300px; height:20px; vertical-align: middle;'></progress>\n",
       "      60.00% [3/5 04:35<03:03]\n",
       "    </div>\n",
       "    \n",
       "<table border=\"1\" class=\"dataframe\">\n",
       "  <thead>\n",
       "    <tr style=\"text-align: left;\">\n",
       "      <th>epoch</th>\n",
       "      <th>train_loss</th>\n",
       "      <th>valid_loss</th>\n",
       "      <th>accuracy</th>\n",
       "      <th>f_beta</th>\n",
       "      <th>time</th>\n",
       "    </tr>\n",
       "  </thead>\n",
       "  <tbody>\n",
       "    <tr>\n",
       "      <td>0</td>\n",
       "      <td>1.771586</td>\n",
       "      <td>#na#</td>\n",
       "      <td>01:32</td>\n",
       "    </tr>\n",
       "    <tr>\n",
       "      <td>1</td>\n",
       "      <td>1.305959</td>\n",
       "      <td>#na#</td>\n",
       "      <td>01:31</td>\n",
       "    </tr>\n",
       "    <tr>\n",
       "      <td>2</td>\n",
       "      <td>1.842469</td>\n",
       "      <td>#na#</td>\n",
       "      <td>01:30</td>\n",
       "    </tr>\n",
       "  </tbody>\n",
       "</table><p>\n",
       "\n",
       "    <div>\n",
       "        <style>\n",
       "            /* Turns off some styling */\n",
       "            progress {\n",
       "                /* gets rid of default border in Firefox and Opera. */\n",
       "                border: none;\n",
       "                /* Needs to be in here for Safari polyfill so background images work as expected. */\n",
       "                background-size: auto;\n",
       "            }\n",
       "            .progress-bar-interrupted, .progress-bar-interrupted::-webkit-progress-bar {\n",
       "                background: #F44336;\n",
       "            }\n",
       "        </style>\n",
       "      <progress value='58' class='' max='149', style='width:300px; height:20px; vertical-align: middle;'></progress>\n",
       "      38.93% [58/149 00:35<00:55 4.1371]\n",
       "    </div>\n",
       "    "
      ],
      "text/plain": [
       "<IPython.core.display.HTML object>"
      ]
     },
     "metadata": {},
     "output_type": "display_data"
    },
    {
     "name": "stdout",
     "output_type": "stream",
     "text": [
      "LR Finder is complete, type {learner_name}.recorder.plot() to see the graph.\n"
     ]
    },
    {
     "data": {
      "text/html": [
       "\n",
       "    <div>\n",
       "        <style>\n",
       "            /* Turns off some styling */\n",
       "            progress {\n",
       "                /* gets rid of default border in Firefox and Opera. */\n",
       "                border: none;\n",
       "                /* Needs to be in here for Safari polyfill so background images work as expected. */\n",
       "                background-size: auto;\n",
       "            }\n",
       "            .progress-bar-interrupted, .progress-bar-interrupted::-webkit-progress-bar {\n",
       "                background: #F44336;\n",
       "            }\n",
       "        </style>\n",
       "      <progress value='3' class='' max='5', style='width:300px; height:20px; vertical-align: middle;'></progress>\n",
       "      60.00% [3/5 04:38<03:05]\n",
       "    </div>\n",
       "    \n",
       "<table border=\"1\" class=\"dataframe\">\n",
       "  <thead>\n",
       "    <tr style=\"text-align: left;\">\n",
       "      <th>epoch</th>\n",
       "      <th>train_loss</th>\n",
       "      <th>valid_loss</th>\n",
       "      <th>accuracy</th>\n",
       "      <th>f_beta</th>\n",
       "      <th>time</th>\n",
       "    </tr>\n",
       "  </thead>\n",
       "  <tbody>\n",
       "    <tr>\n",
       "      <td>0</td>\n",
       "      <td>1.816657</td>\n",
       "      <td>#na#</td>\n",
       "      <td>01:32</td>\n",
       "    </tr>\n",
       "    <tr>\n",
       "      <td>1</td>\n",
       "      <td>1.344499</td>\n",
       "      <td>#na#</td>\n",
       "      <td>01:33</td>\n",
       "    </tr>\n",
       "    <tr>\n",
       "      <td>2</td>\n",
       "      <td>1.475127</td>\n",
       "      <td>#na#</td>\n",
       "      <td>01:32</td>\n",
       "    </tr>\n",
       "  </tbody>\n",
       "</table><p>\n",
       "\n",
       "    <div>\n",
       "        <style>\n",
       "            /* Turns off some styling */\n",
       "            progress {\n",
       "                /* gets rid of default border in Firefox and Opera. */\n",
       "                border: none;\n",
       "                /* Needs to be in here for Safari polyfill so background images work as expected. */\n",
       "                background-size: auto;\n",
       "            }\n",
       "            .progress-bar-interrupted, .progress-bar-interrupted::-webkit-progress-bar {\n",
       "                background: #F44336;\n",
       "            }\n",
       "        </style>\n",
       "      <progress value='62' class='' max='149', style='width:300px; height:20px; vertical-align: middle;'></progress>\n",
       "      41.61% [62/149 00:38<00:54 4.3235]\n",
       "    </div>\n",
       "    "
      ],
      "text/plain": [
       "<IPython.core.display.HTML object>"
      ]
     },
     "metadata": {},
     "output_type": "display_data"
    },
    {
     "name": "stdout",
     "output_type": "stream",
     "text": [
      "LR Finder is complete, type {learner_name}.recorder.plot() to see the graph.\n"
     ]
    }
   ],
   "source": [
    "learner = getLearner(wandb_flag=False, reload_data=False, saved_file=None, save_callback_flag=False)\n",
    "# We can use lr_find with different weight decays and record all losses so that we can plot them on the same graph\n",
    "# Number of iterations is by default 100, but at this low number of itrations, there might be too much variance\n",
    "# from random sampling that makes it difficult to compare WD's. I recommend using an iteration count of at least 300 for more consistent results.\n",
    "lrs = []\n",
    "losses = []\n",
    "wds = []\n",
    "iter_count = 600\n",
    "\n",
    "# WEIGHT DECAY = 1e-6\n",
    "learner.lr_find(wd=1e-6, num_it=iter_count)\n",
    "lrs.append(learner.recorder.lrs)\n",
    "losses.append(learner.recorder.losses)\n",
    "wds.append('1e-6')\n",
    "learner = getLearner(wandb_flag=False, reload_data=False, saved_file=None, save_callback_flag=False) #reset learner - this gets more consistent starting conditions\n",
    "\n",
    "# WEIGHT DECAY = 1e-4\n",
    "learner.lr_find(wd=1e-4, num_it=iter_count)\n",
    "lrs.append(learner.recorder.lrs)\n",
    "losses.append(learner.recorder.losses)\n",
    "wds.append('1e-4')\n",
    "learner = getLearner(wandb_flag=False, reload_data=False, saved_file=None, save_callback_flag=False) #reset learner - this gets more consistent starting conditions\n",
    "\n",
    "# WEIGHT DECAY = 1e-2\n",
    "learner.lr_find(wd=1e-2, num_it=iter_count)\n",
    "lrs.append(learner.recorder.lrs)\n",
    "losses.append(learner.recorder.losses)\n",
    "wds.append('1e-2')\n",
    "# learner = getLearner(wandb_flag=False) #reset learner"
   ]
  },
  {
   "cell_type": "code",
   "execution_count": 38,
   "metadata": {
    "hidden": true
   },
   "outputs": [
    {
     "data": {
      "image/png": "[encoded data removed]",
      "text/plain": [
       "<Figure size 432x288 with 1 Axes>"
      ]
     },
     "metadata": {
      "needs_background": "light"
     },
     "output_type": "display_data"
    }
   ],
   "source": [
    "%matplotlib inline\n",
    "# Plot weight decays\n",
    "_, ax = plt.subplots(1,1)\n",
    "min_y = 0.5\n",
    "max_y = 0.55\n",
    "for i in range(len(losses)):\n",
    "    ax.plot(lrs[i], losses[i])\n",
    "    min_y = min(np.asarray(losses[i]).min(), min_y)\n",
    "ax.set_ylabel(\"Loss\")\n",
    "ax.set_xlabel(\"Learning Rate\")\n",
    "ax.set_xscale('log')\n",
    "#ax ranges may need some tuning with different model architectures \n",
    "# ax.set_xlim((1e-3,1e-1))\n",
    "# ax.set_ylim((min_y - 0.02,max_y))\n",
    "ax.legend(wds)\n",
    "ax.xaxis.set_major_formatter(plt.FormatStrFormatter('%.0e'))"
   ]
  },
  {
   "cell_type": "markdown",
   "metadata": {},
   "source": [
    "## Pretrained Training"
   ]
  },
  {
   "cell_type": "code",
   "execution_count": 39,
   "metadata": {},
   "outputs": [
    {
     "data": {
      "text/html": [
       "\n",
       "                Logging results to <a href=\"https://wandb.com\" target=\"_blank\">Weights & Biases</a> <a href=\"https://docs.wandb.com/integrations/jupyter.html\" target=\"_blank\">(Documentation)</a>.<br/>\n",
       "                Project page: <a href=\"https://app.wandb.ai/manujosephv/Covid_xray\" target=\"_blank\">https://app.wandb.ai/manujosephv/Covid_xray</a><br/>\n",
       "                Run page: <a href=\"https://app.wandb.ai/manujosephv/Covid_xray/runs/10hwbbi6\" target=\"_blank\">https://app.wandb.ai/manujosephv/Covid_xray/runs/10hwbbi6</a><br/>\n",
       "            "
      ],
      "text/plain": [
       "<IPython.core.display.HTML object>"
      ]
     },
     "metadata": {},
     "output_type": "display_data"
    }
   ],
   "source": [
    "config['learning_rate'] = max_lr = 5e-3\n",
    "config['weight_decay'] = wd = 1e-4\n",
    "if WAND_LOGGING:\n",
    "    run_obj = wandb.init(project=config['project_name'], name = model_tag, config=config)\n",
    "run_id = run_obj.get_url().split(\"/\")[-1]\n",
    "root_dir = os.path.split(run_obj.description_path)[0]"
   ]
  },
  {
   "cell_type": "code",
   "execution_count": 40,
   "metadata": {
    "scrolled": false
   },
   "outputs": [
    {
     "data": {
      "text/html": [
       "<table border=\"1\" class=\"dataframe\">\n",
       "  <thead>\n",
       "    <tr style=\"text-align: left;\">\n",
       "      <th>epoch</th>\n",
       "      <th>train_loss</th>\n",
       "      <th>valid_loss</th>\n",
       "      <th>accuracy</th>\n",
       "      <th>f_beta</th>\n",
       "      <th>time</th>\n",
       "    </tr>\n",
       "  </thead>\n",
       "  <tbody>\n",
       "    <tr>\n",
       "      <td>0</td>\n",
       "      <td>1.122912</td>\n",
       "      <td>0.711178</td>\n",
       "      <td>0.740113</td>\n",
       "      <td>0.715216</td>\n",
       "      <td>01:44</td>\n",
       "    </tr>\n",
       "    <tr>\n",
       "      <td>1</td>\n",
       "      <td>0.969316</td>\n",
       "      <td>0.711674</td>\n",
       "      <td>0.687382</td>\n",
       "      <td>0.674118</td>\n",
       "      <td>01:39</td>\n",
       "    </tr>\n",
       "    <tr>\n",
       "      <td>2</td>\n",
       "      <td>0.948754</td>\n",
       "      <td>0.777177</td>\n",
       "      <td>0.674200</td>\n",
       "      <td>0.602932</td>\n",
       "      <td>01:40</td>\n",
       "    </tr>\n",
       "    <tr>\n",
       "      <td>3</td>\n",
       "      <td>0.903241</td>\n",
       "      <td>0.657446</td>\n",
       "      <td>0.764595</td>\n",
       "      <td>0.759553</td>\n",
       "      <td>01:39</td>\n",
       "    </tr>\n",
       "    <tr>\n",
       "      <td>4</td>\n",
       "      <td>0.821439</td>\n",
       "      <td>0.689142</td>\n",
       "      <td>0.755179</td>\n",
       "      <td>0.746351</td>\n",
       "      <td>01:39</td>\n",
       "    </tr>\n",
       "    <tr>\n",
       "      <td>5</td>\n",
       "      <td>0.742287</td>\n",
       "      <td>0.536078</td>\n",
       "      <td>0.813559</td>\n",
       "      <td>0.803031</td>\n",
       "      <td>01:39</td>\n",
       "    </tr>\n",
       "    <tr>\n",
       "      <td>6</td>\n",
       "      <td>0.734468</td>\n",
       "      <td>0.515198</td>\n",
       "      <td>0.781544</td>\n",
       "      <td>0.763309</td>\n",
       "      <td>01:38</td>\n",
       "    </tr>\n",
       "    <tr>\n",
       "      <td>7</td>\n",
       "      <td>0.702168</td>\n",
       "      <td>0.477589</td>\n",
       "      <td>0.804143</td>\n",
       "      <td>0.797887</td>\n",
       "      <td>01:34</td>\n",
       "    </tr>\n",
       "    <tr>\n",
       "      <td>8</td>\n",
       "      <td>0.674254</td>\n",
       "      <td>0.482279</td>\n",
       "      <td>0.802260</td>\n",
       "      <td>0.795381</td>\n",
       "      <td>01:41</td>\n",
       "    </tr>\n",
       "    <tr>\n",
       "      <td>9</td>\n",
       "      <td>0.680330</td>\n",
       "      <td>0.482930</td>\n",
       "      <td>0.800377</td>\n",
       "      <td>0.792986</td>\n",
       "      <td>01:41</td>\n",
       "    </tr>\n",
       "  </tbody>\n",
       "</table>"
      ],
      "text/plain": [
       "<IPython.core.display.HTML object>"
      ]
     },
     "metadata": {},
     "output_type": "display_data"
    },
    {
     "data": {
      "image/png": "[encoded data removed]",
      "text/plain": [
       "<Figure size 432x288 with 1 Axes>"
      ]
     },
     "metadata": {},
     "output_type": "display_data"
    },
    {
     "name": "stdout",
     "output_type": "stream",
     "text": [
      "Better model found at epoch 0 with f_beta value: 0.7152157425880432.\n",
      "Better model found at epoch 3 with f_beta value: 0.7595533132553101.\n",
      "Better model found at epoch 5 with f_beta value: 0.8030309081077576.\n"
     ]
    },
    {
     "data": {
      "text/html": [
       "<table border=\"1\" class=\"dataframe\">\n",
       "  <thead>\n",
       "    <tr style=\"text-align: left;\">\n",
       "      <th>epoch</th>\n",
       "      <th>train_loss</th>\n",
       "      <th>valid_loss</th>\n",
       "      <th>accuracy</th>\n",
       "      <th>f_beta</th>\n",
       "      <th>time</th>\n",
       "    </tr>\n",
       "  </thead>\n",
       "  <tbody>\n",
       "    <tr>\n",
       "      <td>0</td>\n",
       "      <td>0.716383</td>\n",
       "      <td>0.494490</td>\n",
       "      <td>0.794727</td>\n",
       "      <td>0.782295</td>\n",
       "      <td>01:43</td>\n",
       "    </tr>\n",
       "    <tr>\n",
       "      <td>1</td>\n",
       "      <td>0.739598</td>\n",
       "      <td>0.563373</td>\n",
       "      <td>0.768362</td>\n",
       "      <td>0.762646</td>\n",
       "      <td>01:41</td>\n",
       "    </tr>\n",
       "    <tr>\n",
       "      <td>2</td>\n",
       "      <td>0.749113</td>\n",
       "      <td>1.657985</td>\n",
       "      <td>0.581921</td>\n",
       "      <td>0.545659</td>\n",
       "      <td>01:41</td>\n",
       "    </tr>\n",
       "    <tr>\n",
       "      <td>3</td>\n",
       "      <td>0.725745</td>\n",
       "      <td>0.539533</td>\n",
       "      <td>0.777778</td>\n",
       "      <td>0.770134</td>\n",
       "      <td>01:39</td>\n",
       "    </tr>\n",
       "    <tr>\n",
       "      <td>4</td>\n",
       "      <td>0.682195</td>\n",
       "      <td>0.512542</td>\n",
       "      <td>0.775895</td>\n",
       "      <td>0.773961</td>\n",
       "      <td>01:29</td>\n",
       "    </tr>\n",
       "    <tr>\n",
       "      <td>5</td>\n",
       "      <td>0.684712</td>\n",
       "      <td>0.466578</td>\n",
       "      <td>0.802260</td>\n",
       "      <td>0.785501</td>\n",
       "      <td>01:41</td>\n",
       "    </tr>\n",
       "    <tr>\n",
       "      <td>6</td>\n",
       "      <td>0.662819</td>\n",
       "      <td>0.455419</td>\n",
       "      <td>0.817326</td>\n",
       "      <td>0.810853</td>\n",
       "      <td>01:41</td>\n",
       "    </tr>\n",
       "    <tr>\n",
       "      <td>7</td>\n",
       "      <td>0.657052</td>\n",
       "      <td>0.439196</td>\n",
       "      <td>0.806026</td>\n",
       "      <td>0.795059</td>\n",
       "      <td>01:42</td>\n",
       "    </tr>\n",
       "    <tr>\n",
       "      <td>8</td>\n",
       "      <td>0.640217</td>\n",
       "      <td>0.443034</td>\n",
       "      <td>0.815443</td>\n",
       "      <td>0.807478</td>\n",
       "      <td>01:43</td>\n",
       "    </tr>\n",
       "    <tr>\n",
       "      <td>9</td>\n",
       "      <td>0.629037</td>\n",
       "      <td>0.435863</td>\n",
       "      <td>0.832392</td>\n",
       "      <td>0.827010</td>\n",
       "      <td>01:43</td>\n",
       "    </tr>\n",
       "  </tbody>\n",
       "</table>"
      ],
      "text/plain": [
       "<IPython.core.display.HTML object>"
      ]
     },
     "metadata": {},
     "output_type": "display_data"
    },
    {
     "data": {
      "image/png": "[encoded data removed]",
      "text/plain": [
       "<Figure size 432x288 with 1 Axes>"
      ]
     },
     "metadata": {},
     "output_type": "display_data"
    },
    {
     "name": "stdout",
     "output_type": "stream",
     "text": [
      "Better model found at epoch 0 with f_beta value: 0.7822949290275574.\n",
      "Better model found at epoch 5 with f_beta value: 0.7855008244514465.\n",
      "Better model found at epoch 6 with f_beta value: 0.810853123664856.\n",
      "Better model found at epoch 9 with f_beta value: 0.8270102143287659.\n"
     ]
    }
   ],
   "source": [
    "learner = getLearner(wandb_flag=True, reload_data=False, saved_file=None) #reset learner\n",
    "# 1cycle policy\n",
    "learner.fit_one_cycle(cyc_len=10, max_lr=max_lr, wd=wd)\n",
    "learner.load(config['model_str']+\"_best_model\")\n",
    "learner.save(\"_stage1\")\n",
    "learner.fit_one_cycle(cyc_len=10, max_lr=max_lr, wd=wd)\n",
    "learner.load(config['model_str']+\"_best_model\")\n",
    "learner.save(\"_stage2\")"
   ]
  },
  {
   "cell_type": "code",
   "execution_count": 41,
   "metadata": {},
   "outputs": [],
   "source": [
    "learner.load(\"_stage2\")\n",
    "learner.save(config['model_str']+\"_{}\".format(\"stage_1\"))"
   ]
  },
  {
   "cell_type": "code",
   "execution_count": 42,
   "metadata": {},
   "outputs": [
    {
     "data": {
      "text/html": [
       "<table border=\"1\" class=\"dataframe\">\n",
       "  <thead>\n",
       "    <tr style=\"text-align: left;\">\n",
       "      <th>epoch</th>\n",
       "      <th>train_loss</th>\n",
       "      <th>valid_loss</th>\n",
       "      <th>accuracy</th>\n",
       "      <th>f_beta</th>\n",
       "      <th>time</th>\n",
       "    </tr>\n",
       "  </thead>\n",
       "  <tbody>\n",
       "    <tr>\n",
       "      <td>0</td>\n",
       "      <td>0.617257</td>\n",
       "      <td>0.438136</td>\n",
       "      <td>0.824859</td>\n",
       "      <td>0.820390</td>\n",
       "      <td>01:45</td>\n",
       "    </tr>\n",
       "    <tr>\n",
       "      <td>1</td>\n",
       "      <td>0.643374</td>\n",
       "      <td>0.484572</td>\n",
       "      <td>0.790960</td>\n",
       "      <td>0.785846</td>\n",
       "      <td>01:42</td>\n",
       "    </tr>\n",
       "    <tr>\n",
       "      <td>2</td>\n",
       "      <td>0.701408</td>\n",
       "      <td>0.481175</td>\n",
       "      <td>0.789077</td>\n",
       "      <td>0.781169</td>\n",
       "      <td>01:41</td>\n",
       "    </tr>\n",
       "    <tr>\n",
       "      <td>3</td>\n",
       "      <td>0.651006</td>\n",
       "      <td>0.490399</td>\n",
       "      <td>0.807910</td>\n",
       "      <td>0.808843</td>\n",
       "      <td>01:42</td>\n",
       "    </tr>\n",
       "    <tr>\n",
       "      <td>4</td>\n",
       "      <td>0.656442</td>\n",
       "      <td>0.455634</td>\n",
       "      <td>0.800377</td>\n",
       "      <td>0.783365</td>\n",
       "      <td>01:41</td>\n",
       "    </tr>\n",
       "    <tr>\n",
       "      <td>5</td>\n",
       "      <td>0.643660</td>\n",
       "      <td>0.408555</td>\n",
       "      <td>0.824859</td>\n",
       "      <td>0.816273</td>\n",
       "      <td>01:42</td>\n",
       "    </tr>\n",
       "    <tr>\n",
       "      <td>6</td>\n",
       "      <td>0.616830</td>\n",
       "      <td>0.401197</td>\n",
       "      <td>0.836158</td>\n",
       "      <td>0.828522</td>\n",
       "      <td>01:42</td>\n",
       "    </tr>\n",
       "    <tr>\n",
       "      <td>7</td>\n",
       "      <td>0.608375</td>\n",
       "      <td>0.410516</td>\n",
       "      <td>0.830508</td>\n",
       "      <td>0.825816</td>\n",
       "      <td>01:42</td>\n",
       "    </tr>\n",
       "    <tr>\n",
       "      <td>8</td>\n",
       "      <td>0.606780</td>\n",
       "      <td>0.415894</td>\n",
       "      <td>0.836158</td>\n",
       "      <td>0.830636</td>\n",
       "      <td>01:40</td>\n",
       "    </tr>\n",
       "    <tr>\n",
       "      <td>9</td>\n",
       "      <td>0.600844</td>\n",
       "      <td>0.410665</td>\n",
       "      <td>0.836158</td>\n",
       "      <td>0.829419</td>\n",
       "      <td>01:41</td>\n",
       "    </tr>\n",
       "  </tbody>\n",
       "</table>"
      ],
      "text/plain": [
       "<IPython.core.display.HTML object>"
      ]
     },
     "metadata": {},
     "output_type": "display_data"
    },
    {
     "data": {
      "image/png": "[encoded data removed]",
      "text/plain": [
       "<Figure size 432x288 with 1 Axes>"
      ]
     },
     "metadata": {},
     "output_type": "display_data"
    },
    {
     "name": "stdout",
     "output_type": "stream",
     "text": [
      "Better model found at epoch 0 with f_beta value: 0.8203895688056946.\n",
      "Better model found at epoch 6 with f_beta value: 0.8285220861434937.\n",
      "Better model found at epoch 8 with f_beta value: 0.8306357860565186.\n"
     ]
    },
    {
     "data": {
      "text/html": [
       "<table border=\"1\" class=\"dataframe\">\n",
       "  <thead>\n",
       "    <tr style=\"text-align: left;\">\n",
       "      <th>epoch</th>\n",
       "      <th>train_loss</th>\n",
       "      <th>valid_loss</th>\n",
       "      <th>accuracy</th>\n",
       "      <th>f_beta</th>\n",
       "      <th>time</th>\n",
       "    </tr>\n",
       "  </thead>\n",
       "  <tbody>\n",
       "    <tr>\n",
       "      <td>0</td>\n",
       "      <td>0.607597</td>\n",
       "      <td>0.404781</td>\n",
       "      <td>0.841808</td>\n",
       "      <td>0.835668</td>\n",
       "      <td>01:41</td>\n",
       "    </tr>\n",
       "    <tr>\n",
       "      <td>1</td>\n",
       "      <td>0.597294</td>\n",
       "      <td>0.416027</td>\n",
       "      <td>0.836158</td>\n",
       "      <td>0.831820</td>\n",
       "      <td>01:46</td>\n",
       "    </tr>\n",
       "    <tr>\n",
       "      <td>2</td>\n",
       "      <td>0.604499</td>\n",
       "      <td>0.422156</td>\n",
       "      <td>0.824859</td>\n",
       "      <td>0.820160</td>\n",
       "      <td>01:45</td>\n",
       "    </tr>\n",
       "    <tr>\n",
       "      <td>3</td>\n",
       "      <td>0.599996</td>\n",
       "      <td>0.397269</td>\n",
       "      <td>0.841808</td>\n",
       "      <td>0.836675</td>\n",
       "      <td>01:46</td>\n",
       "    </tr>\n",
       "    <tr>\n",
       "      <td>4</td>\n",
       "      <td>0.608115</td>\n",
       "      <td>0.404191</td>\n",
       "      <td>0.838041</td>\n",
       "      <td>0.831213</td>\n",
       "      <td>01:47</td>\n",
       "    </tr>\n",
       "    <tr>\n",
       "      <td>5</td>\n",
       "      <td>0.602037</td>\n",
       "      <td>0.402044</td>\n",
       "      <td>0.838041</td>\n",
       "      <td>0.832467</td>\n",
       "      <td>01:47</td>\n",
       "    </tr>\n",
       "    <tr>\n",
       "      <td>6</td>\n",
       "      <td>0.599638</td>\n",
       "      <td>0.427201</td>\n",
       "      <td>0.824859</td>\n",
       "      <td>0.821717</td>\n",
       "      <td>01:32</td>\n",
       "    </tr>\n",
       "    <tr>\n",
       "      <td>7</td>\n",
       "      <td>0.608629</td>\n",
       "      <td>0.397840</td>\n",
       "      <td>0.838041</td>\n",
       "      <td>0.833425</td>\n",
       "      <td>01:24</td>\n",
       "    </tr>\n",
       "    <tr>\n",
       "      <td>8</td>\n",
       "      <td>0.598860</td>\n",
       "      <td>0.400095</td>\n",
       "      <td>0.838041</td>\n",
       "      <td>0.831599</td>\n",
       "      <td>01:23</td>\n",
       "    </tr>\n",
       "    <tr>\n",
       "      <td>9</td>\n",
       "      <td>0.590845</td>\n",
       "      <td>0.416291</td>\n",
       "      <td>0.834275</td>\n",
       "      <td>0.827030</td>\n",
       "      <td>01:29</td>\n",
       "    </tr>\n",
       "  </tbody>\n",
       "</table>"
      ],
      "text/plain": [
       "<IPython.core.display.HTML object>"
      ]
     },
     "metadata": {},
     "output_type": "display_data"
    },
    {
     "data": {
      "image/png": "[encoded data removed]",
      "text/plain": [
       "<Figure size 432x288 with 1 Axes>"
      ]
     },
     "metadata": {},
     "output_type": "display_data"
    },
    {
     "name": "stdout",
     "output_type": "stream",
     "text": [
      "Better model found at epoch 0 with f_beta value: 0.8356684446334839.\n",
      "Better model found at epoch 3 with f_beta value: 0.8366752862930298.\n"
     ]
    }
   ],
   "source": [
    "learner.fit_one_cycle(cyc_len=10, max_lr=max_lr, wd=wd)\n",
    "learner.load(config['model_str']+\"_best_model\")\n",
    "learner.save(\"_stage3\")\n",
    "config['learning_rate'] = max_lr = 1e-4\n",
    "learner.fit_one_cycle(cyc_len=10, max_lr=max_lr, wd=wd)\n",
    "learner.load(config['model_str']+\"_best_model\")\n",
    "learner.save(\"_stage4\")"
   ]
  },
  {
   "cell_type": "code",
   "execution_count": 43,
   "metadata": {},
   "outputs": [],
   "source": [
    "learner.load(\"_stage4\")\n",
    "learner.save(config['model_str']+\"_{}\".format(\"stage_1\"))"
   ]
  },
  {
   "cell_type": "code",
   "execution_count": 44,
   "metadata": {},
   "outputs": [],
   "source": [
    "wandb.join()"
   ]
  },
  {
   "cell_type": "code",
   "execution_count": 15,
   "metadata": {},
   "outputs": [],
   "source": [
    "learner = getLearner(wandb_flag=True, reload_data=False, saved_file=config['model_str']+\"_stage_1\")"
   ]
  },
  {
   "cell_type": "code",
   "execution_count": 45,
   "metadata": {},
   "outputs": [
    {
     "data": {
      "text/html": [],
      "text/plain": [
       "<IPython.core.display.HTML object>"
      ]
     },
     "metadata": {},
     "output_type": "display_data"
    },
    {
     "data": {
      "image/png": "[encoded data removed]",
      "text/plain": [
       "<Figure size 432x288 with 1 Axes>"
      ]
     },
     "metadata": {
      "needs_background": "light"
     },
     "output_type": "display_data"
    }
   ],
   "source": [
    "# predict the validation set with our model\n",
    "interp = ClassificationInterpretation.from_learner(learner)\n",
    "interp.plot_confusion_matrix(title='Confusion matrix')"
   ]
  },
  {
   "cell_type": "markdown",
   "metadata": {},
   "source": [
    "# Finetuning"
   ]
  },
  {
   "cell_type": "code",
   "execution_count": 46,
   "metadata": {},
   "outputs": [
    {
     "data": {
      "text/html": [
       "\n",
       "                Logging results to <a href=\"https://wandb.com\" target=\"_blank\">Weights & Biases</a> <a href=\"https://docs.wandb.com/integrations/jupyter.html\" target=\"_blank\">(Documentation)</a>.<br/>\n",
       "                Project page: <a href=\"https://app.wandb.ai/manujosephv/Covid_xray\" target=\"_blank\">https://app.wandb.ai/manujosephv/Covid_xray</a><br/>\n",
       "                Run page: <a href=\"https://app.wandb.ai/manujosephv/Covid_xray/runs/2k1fxs62\" target=\"_blank\">https://app.wandb.ai/manujosephv/Covid_xray/runs/2k1fxs62</a><br/>\n",
       "            "
      ],
      "text/plain": [
       "<IPython.core.display.HTML object>"
      ]
     },
     "metadata": {},
     "output_type": "display_data"
    }
   ],
   "source": [
    "# config['mixup'] = True\n",
    "model_str = get_model_str()\n",
    "config['model_str'] = model_str\n",
    "finetune_run_name = config['model_str'] + \"_finetune\"\n",
    "\n",
    "if WAND_LOGGING:\n",
    "    finetune_run = wandb.init(project=config['project_name'], name = finetune_run_name, config=config)"
   ]
  },
  {
   "cell_type": "markdown",
   "metadata": {},
   "source": [
    "## LR Find"
   ]
  },
  {
   "cell_type": "code",
   "execution_count": 47,
   "metadata": {},
   "outputs": [
    {
     "data": {
      "text/html": [
       "\n",
       "    <div>\n",
       "        <style>\n",
       "            /* Turns off some styling */\n",
       "            progress {\n",
       "                /* gets rid of default border in Firefox and Opera. */\n",
       "                border: none;\n",
       "                /* Needs to be in here for Safari polyfill so background images work as expected. */\n",
       "                background-size: auto;\n",
       "            }\n",
       "            .progress-bar-interrupted, .progress-bar-interrupted::-webkit-progress-bar {\n",
       "                background: #F44336;\n",
       "            }\n",
       "        </style>\n",
       "      <progress value='0' class='' max='1', style='width:300px; height:20px; vertical-align: middle;'></progress>\n",
       "      0.00% [0/1 00:00<00:00]\n",
       "    </div>\n",
       "    \n",
       "<table border=\"1\" class=\"dataframe\">\n",
       "  <thead>\n",
       "    <tr style=\"text-align: left;\">\n",
       "      <th>epoch</th>\n",
       "      <th>train_loss</th>\n",
       "      <th>valid_loss</th>\n",
       "      <th>accuracy</th>\n",
       "      <th>f_beta</th>\n",
       "      <th>time</th>\n",
       "    </tr>\n",
       "  </thead>\n",
       "  <tbody>\n",
       "  </tbody>\n",
       "</table><p>\n",
       "\n",
       "    <div>\n",
       "        <style>\n",
       "            /* Turns off some styling */\n",
       "            progress {\n",
       "                /* gets rid of default border in Firefox and Opera. */\n",
       "                border: none;\n",
       "                /* Needs to be in here for Safari polyfill so background images work as expected. */\n",
       "                background-size: auto;\n",
       "            }\n",
       "            .progress-bar-interrupted, .progress-bar-interrupted::-webkit-progress-bar {\n",
       "                background: #F44336;\n",
       "            }\n",
       "        </style>\n",
       "      <progress value='99' class='' max='149', style='width:300px; height:20px; vertical-align: middle;'></progress>\n",
       "      66.44% [99/149 00:52<00:26 0.7066]\n",
       "    </div>\n",
       "    "
      ],
      "text/plain": [
       "<IPython.core.display.HTML object>"
      ]
     },
     "metadata": {},
     "output_type": "display_data"
    },
    {
     "name": "stdout",
     "output_type": "stream",
     "text": [
      "LR Finder is complete, type {learner_name}.recorder.plot() to see the graph.\n"
     ]
    },
    {
     "data": {
      "image/png": "[encoded data removed]",
      "text/plain": [
       "<Figure size 432x288 with 1 Axes>"
      ]
     },
     "metadata": {
      "needs_background": "light"
     },
     "output_type": "display_data"
    }
   ],
   "source": [
    "# load the baseline model\n",
    "learner = getLearner(wandb_flag=False, reload_data=True, saved_file=config['model_str']+\"_stage_1\", save_callback_flag=False)\n",
    "\n",
    "# unfreeze and run learning rate finder again\n",
    "learner.unfreeze()\n",
    "learner.lr_find(wd=config['weight_decay'] ,start_lr = 1e-14, end_lr = 1e-1)\n",
    "\n",
    "# plot learning rate finder results\n",
    "learner.recorder.plot()"
   ]
  },
  {
   "cell_type": "markdown",
   "metadata": {},
   "source": [
    "## Training"
   ]
  },
  {
   "cell_type": "code",
   "execution_count": 48,
   "metadata": {},
   "outputs": [],
   "source": [
    "learner = getLearner(reload_data=False, saved_file=config['model_str']+\"_stage_1\")\n",
    "learner.unfreeze()"
   ]
  },
  {
   "cell_type": "code",
   "execution_count": 49,
   "metadata": {},
   "outputs": [
    {
     "data": {
      "text/html": [
       "<table border=\"1\" class=\"dataframe\">\n",
       "  <thead>\n",
       "    <tr style=\"text-align: left;\">\n",
       "      <th>epoch</th>\n",
       "      <th>train_loss</th>\n",
       "      <th>valid_loss</th>\n",
       "      <th>accuracy</th>\n",
       "      <th>f_beta</th>\n",
       "      <th>time</th>\n",
       "    </tr>\n",
       "  </thead>\n",
       "  <tbody>\n",
       "    <tr>\n",
       "      <td>0</td>\n",
       "      <td>0.597074</td>\n",
       "      <td>0.411306</td>\n",
       "      <td>0.836158</td>\n",
       "      <td>0.828776</td>\n",
       "      <td>01:25</td>\n",
       "    </tr>\n",
       "    <tr>\n",
       "      <td>1</td>\n",
       "      <td>0.610296</td>\n",
       "      <td>0.398557</td>\n",
       "      <td>0.841808</td>\n",
       "      <td>0.835222</td>\n",
       "      <td>01:23</td>\n",
       "    </tr>\n",
       "    <tr>\n",
       "      <td>2</td>\n",
       "      <td>0.599116</td>\n",
       "      <td>0.418428</td>\n",
       "      <td>0.836158</td>\n",
       "      <td>0.832459</td>\n",
       "      <td>01:23</td>\n",
       "    </tr>\n",
       "    <tr>\n",
       "      <td>3</td>\n",
       "      <td>0.591841</td>\n",
       "      <td>0.418524</td>\n",
       "      <td>0.834275</td>\n",
       "      <td>0.828173</td>\n",
       "      <td>01:24</td>\n",
       "    </tr>\n",
       "    <tr>\n",
       "      <td>4</td>\n",
       "      <td>0.585037</td>\n",
       "      <td>0.414427</td>\n",
       "      <td>0.832392</td>\n",
       "      <td>0.823690</td>\n",
       "      <td>01:22</td>\n",
       "    </tr>\n",
       "    <tr>\n",
       "      <td>5</td>\n",
       "      <td>0.591018</td>\n",
       "      <td>0.412459</td>\n",
       "      <td>0.838041</td>\n",
       "      <td>0.833901</td>\n",
       "      <td>01:20</td>\n",
       "    </tr>\n",
       "    <tr>\n",
       "      <td>6</td>\n",
       "      <td>0.609788</td>\n",
       "      <td>0.414781</td>\n",
       "      <td>0.832392</td>\n",
       "      <td>0.825979</td>\n",
       "      <td>01:18</td>\n",
       "    </tr>\n",
       "    <tr>\n",
       "      <td>7</td>\n",
       "      <td>0.592758</td>\n",
       "      <td>0.419851</td>\n",
       "      <td>0.832392</td>\n",
       "      <td>0.829607</td>\n",
       "      <td>01:18</td>\n",
       "    </tr>\n",
       "    <tr>\n",
       "      <td>8</td>\n",
       "      <td>0.588449</td>\n",
       "      <td>0.407974</td>\n",
       "      <td>0.836158</td>\n",
       "      <td>0.830836</td>\n",
       "      <td>01:21</td>\n",
       "    </tr>\n",
       "    <tr>\n",
       "      <td>9</td>\n",
       "      <td>0.606090</td>\n",
       "      <td>0.403532</td>\n",
       "      <td>0.836158</td>\n",
       "      <td>0.831870</td>\n",
       "      <td>01:19</td>\n",
       "    </tr>\n",
       "  </tbody>\n",
       "</table>"
      ],
      "text/plain": [
       "<IPython.core.display.HTML object>"
      ]
     },
     "metadata": {},
     "output_type": "display_data"
    },
    {
     "data": {
      "image/png": "[encoded data removed]",
      "text/plain": [
       "<Figure size 432x288 with 1 Axes>"
      ]
     },
     "metadata": {},
     "output_type": "display_data"
    },
    {
     "name": "stdout",
     "output_type": "stream",
     "text": [
      "Better model found at epoch 0 with f_beta value: 0.8287761211395264.\n",
      "Better model found at epoch 1 with f_beta value: 0.835222065448761.\n"
     ]
    }
   ],
   "source": [
    "# Now, smaller learning rates. This time we define the min and max lr of the cycle for discriminative LRs\n",
    "learner.fit_one_cycle(cyc_len=10, max_lr=slice(1e-12,1e-8))\n",
    "learner.load(config['model_str']+\"_best_model\")\n",
    "learner.save(\"_stage1\")"
   ]
  },
  {
   "cell_type": "code",
   "execution_count": 50,
   "metadata": {},
   "outputs": [],
   "source": [
    "learner.load(\"_stage1\")\n",
    "learner.save(config['model_str']+\"_{}\".format(\"ft_stage_1\"))"
   ]
  },
  {
   "cell_type": "code",
   "execution_count": 55,
   "metadata": {},
   "outputs": [
    {
     "data": {
      "text/html": [
       "<table border=\"1\" class=\"dataframe\">\n",
       "  <thead>\n",
       "    <tr style=\"text-align: left;\">\n",
       "      <th>epoch</th>\n",
       "      <th>train_loss</th>\n",
       "      <th>valid_loss</th>\n",
       "      <th>accuracy</th>\n",
       "      <th>f_beta</th>\n",
       "      <th>time</th>\n",
       "    </tr>\n",
       "  </thead>\n",
       "  <tbody>\n",
       "    <tr>\n",
       "      <td>0</td>\n",
       "      <td>0.608364</td>\n",
       "      <td>0.409858</td>\n",
       "      <td>0.834275</td>\n",
       "      <td>0.826901</td>\n",
       "      <td>01:22</td>\n",
       "    </tr>\n",
       "    <tr>\n",
       "      <td>1</td>\n",
       "      <td>0.601607</td>\n",
       "      <td>0.404201</td>\n",
       "      <td>0.839925</td>\n",
       "      <td>0.836257</td>\n",
       "      <td>01:20</td>\n",
       "    </tr>\n",
       "    <tr>\n",
       "      <td>2</td>\n",
       "      <td>0.594712</td>\n",
       "      <td>0.410213</td>\n",
       "      <td>0.836158</td>\n",
       "      <td>0.830836</td>\n",
       "      <td>01:20</td>\n",
       "    </tr>\n",
       "    <tr>\n",
       "      <td>3</td>\n",
       "      <td>0.591783</td>\n",
       "      <td>0.407474</td>\n",
       "      <td>0.839925</td>\n",
       "      <td>0.833631</td>\n",
       "      <td>01:19</td>\n",
       "    </tr>\n",
       "    <tr>\n",
       "      <td>4</td>\n",
       "      <td>0.599200</td>\n",
       "      <td>0.406902</td>\n",
       "      <td>0.845574</td>\n",
       "      <td>0.842041</td>\n",
       "      <td>01:18</td>\n",
       "    </tr>\n",
       "    <tr>\n",
       "      <td>5</td>\n",
       "      <td>0.598553</td>\n",
       "      <td>0.412124</td>\n",
       "      <td>0.838041</td>\n",
       "      <td>0.832420</td>\n",
       "      <td>01:19</td>\n",
       "    </tr>\n",
       "    <tr>\n",
       "      <td>6</td>\n",
       "      <td>0.596915</td>\n",
       "      <td>0.410146</td>\n",
       "      <td>0.832392</td>\n",
       "      <td>0.827583</td>\n",
       "      <td>01:19</td>\n",
       "    </tr>\n",
       "    <tr>\n",
       "      <td>7</td>\n",
       "      <td>0.626044</td>\n",
       "      <td>0.407707</td>\n",
       "      <td>0.834275</td>\n",
       "      <td>0.828557</td>\n",
       "      <td>01:20</td>\n",
       "    </tr>\n",
       "    <tr>\n",
       "      <td>8</td>\n",
       "      <td>0.595621</td>\n",
       "      <td>0.405480</td>\n",
       "      <td>0.838041</td>\n",
       "      <td>0.833755</td>\n",
       "      <td>01:20</td>\n",
       "    </tr>\n",
       "    <tr>\n",
       "      <td>9</td>\n",
       "      <td>0.584301</td>\n",
       "      <td>0.412344</td>\n",
       "      <td>0.830508</td>\n",
       "      <td>0.824612</td>\n",
       "      <td>01:20</td>\n",
       "    </tr>\n",
       "  </tbody>\n",
       "</table>"
      ],
      "text/plain": [
       "<IPython.core.display.HTML object>"
      ]
     },
     "metadata": {},
     "output_type": "display_data"
    },
    {
     "data": {
      "image/png": "[encoded data removed]",
      "text/plain": [
       "<Figure size 432x288 with 1 Axes>"
      ]
     },
     "metadata": {},
     "output_type": "display_data"
    },
    {
     "name": "stdout",
     "output_type": "stream",
     "text": [
      "Better model found at epoch 0 with f_beta value: 0.8269009590148926.\n",
      "Better model found at epoch 1 with f_beta value: 0.8362573385238647.\n",
      "Better model found at epoch 4 with f_beta value: 0.8420405387878418.\n"
     ]
    }
   ],
   "source": [
    "# Now, smaller learning rates. This time we define the min and max lr of the cycle for discriminative LRs\n",
    "learner.fit_one_cycle(cyc_len=10, max_lr=slice(1e-8,1e-4))\n",
    "learner.load(config['model_str']+\"_best_model\")\n",
    "learner.save(\"_stage2\")"
   ]
  },
  {
   "cell_type": "code",
   "execution_count": 57,
   "metadata": {},
   "outputs": [],
   "source": [
    "learner.save(\"_stage2\")"
   ]
  },
  {
   "cell_type": "code",
   "execution_count": 58,
   "metadata": {},
   "outputs": [],
   "source": [
    "learner.load(\"_stage2\")\n",
    "learner.save(config['model_str']+\"_{}\".format(\"ft_stage_1\"))"
   ]
  },
  {
   "cell_type": "code",
   "execution_count": 51,
   "metadata": {},
   "outputs": [
    {
     "data": {
      "text/html": [],
      "text/plain": [
       "<IPython.core.display.HTML object>"
      ]
     },
     "metadata": {},
     "output_type": "display_data"
    },
    {
     "data": {
      "image/png": "[encoded data removed]",
      "text/plain": [
       "<Figure size 432x288 with 1 Axes>"
      ]
     },
     "metadata": {
      "needs_background": "light"
     },
     "output_type": "display_data"
    }
   ],
   "source": [
    "# predict the validation set with our model\n",
    "interp = ClassificationInterpretation.from_learner(learner)\n",
    "interp.plot_confusion_matrix(title='Confusion matrix')"
   ]
  }
 ],
 "metadata": {
  "kernelspec": {
   "display_name": "Python 3",
   "language": "python",
   "name": "python3"
  },
  "language_info": {
   "codemirror_mode": {
    "name": "ipython",
    "version": 3
   },
   "file_extension": ".py",
   "mimetype": "text/x-python",
   "name": "python",
   "nbconvert_exporter": "python",
   "pygments_lexer": "ipython3",
   "version": "3.7.6"
  }
 },
 "nbformat": 4,
 "nbformat_minor": 4
}
